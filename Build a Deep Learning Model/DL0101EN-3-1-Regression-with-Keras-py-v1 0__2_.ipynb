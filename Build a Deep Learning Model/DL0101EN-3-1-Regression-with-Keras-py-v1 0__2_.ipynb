{
 "cells": [
  {
   "cell_type": "markdown",
   "metadata": {
    "tags": []
   },
   "source": [
    "<a href=\"https://cognitiveclass.ai\"><img src=\"https://cf-courses-data.s3.us.cloud-object-storage.appdomain.cloud/IBMDeveloperSkillsNetwork-DL0101EN-SkillsNetwork/images/IDSN-logo.png\" width=\"400\"> </a>\n",
    "\n",
    "<h1 align=center><font size = 5>Regression Models with Keras</font></h1>\n"
   ]
  },
  {
   "cell_type": "markdown",
   "metadata": {
    "tags": []
   },
   "source": [
    "# LAB 03"
   ]
  },
  {
   "cell_type": "markdown",
   "metadata": {
    "tags": []
   },
   "source": [
    "## Introduction\n"
   ]
  },
  {
   "cell_type": "markdown",
   "metadata": {},
   "source": [
    "As we discussed in the videos, despite the popularity of more powerful libraries such as PyToch and TensorFlow, they are not easy to use and have a steep learning curve. So, for people who are just starting to learn deep learning, there is no better library to use other than the Keras library. \n",
    "\n",
    "Keras is a high-level API for building deep learning models. It has gained favor for its ease of use and syntactic simplicity facilitating fast development. As you will see in this lab and the other labs in this course, building a very complex deep learning network can be achieved with Keras with only few lines of code. You will appreciate Keras even more, once you learn how to build deep models using PyTorch and TensorFlow in the other courses.\n",
    "\n",
    "So, in this lab, you will learn how to use the Keras library to build a regression model.\n"
   ]
  },
  {
   "cell_type": "markdown",
   "metadata": {
    "jp-MarkdownHeadingCollapsed": true,
    "tags": []
   },
   "source": [
    "<h2>Regression Models with Keras</h2>\n",
    "\n",
    "<h3>Objective for this Notebook<h3>    \n",
    "<h5> 1. How to use the Keras library to build a regression model.</h5>\n",
    "<h5> 2. Download and Clean dataset </h5>\n",
    "<h5> 3. Build a Neural Network </h5>\n",
    "<h5> 4. Train and Test the Network. </h5>     \n",
    "\n"
   ]
  },
  {
   "cell_type": "markdown",
   "metadata": {
    "tags": []
   },
   "source": [
    "## Table of Contents\n",
    "\n",
    "<div class=\"alert alert-block alert-info\" style=\"margin-top: 20px\">\n",
    "\n",
    "<font size = 3>\n",
    "    \n",
    "1. <a href=\"#item31\">Download and Clean Dataset</a>  \n",
    "2. <a href=\"#item32\">Import Keras</a>  \n",
    "3. <a href=\"#item33\">Build a Neural Network</a>  \n",
    "4. <a href=\"#item34\">Train and Test the Network</a>  \n",
    "\n",
    "</font>\n",
    "</div>\n"
   ]
  },
  {
   "cell_type": "markdown",
   "metadata": {},
   "source": [
    "<a id=\"item31\"></a>\n"
   ]
  },
  {
   "cell_type": "markdown",
   "metadata": {
    "tags": []
   },
   "source": [
    "## Download and Clean Dataset\n"
   ]
  },
  {
   "cell_type": "markdown",
   "metadata": {},
   "source": [
    "Let's start by importing the <em>pandas</em> and the Numpy libraries.\n"
   ]
  },
  {
   "cell_type": "code",
   "execution_count": null,
   "metadata": {},
   "outputs": [],
   "source": [
    "# All Libraries required for this lab are listed below. The libraries pre-installed on Skills Network Labs are commented. \n",
    "# If you run this notebook on a different environment, e.g. your desktop, you may need to uncomment and install certain libraries.\n",
    "\n",
    "#!pip install numpy==1.21.4\n",
    "#!pip install pandas==1.3.4\n",
    "#!pip install keras==2.1.6"
   ]
  },
  {
   "cell_type": "code",
   "execution_count": 1,
   "metadata": {
    "tags": []
   },
   "outputs": [],
   "source": [
    "import pandas as pd\n",
    "import numpy as np\n",
    "\n",
    "import warnings\n",
    "warnings.simplefilter('ignore', FutureWarning)"
   ]
  },
  {
   "cell_type": "markdown",
   "metadata": {},
   "source": [
    "We will be playing around with the same dataset that we used in the videos.\n",
    "\n",
    "<strong>The dataset is about the compressive strength of different samples of concrete based on the volumes of the different ingredients that were used to make them. Ingredients include:</strong>\n",
    "\n",
    "<strong>1. Cement</strong>\n",
    "\n",
    "<strong>2. Blast Furnace Slag</strong>\n",
    "\n",
    "<strong>3. Fly Ash</strong>\n",
    "\n",
    "<strong>4. Water</strong>\n",
    "\n",
    "<strong>5. Superplasticizer</strong>\n",
    "\n",
    "<strong>6. Coarse Aggregate</strong>\n",
    "\n",
    "<strong>7. Fine Aggregate</strong>\n"
   ]
  },
  {
   "cell_type": "markdown",
   "metadata": {},
   "source": [
    "Let's download the data and read it into a <em>pandas</em> dataframe.\n"
   ]
  },
  {
   "cell_type": "code",
   "execution_count": 2,
   "metadata": {
    "tags": []
   },
   "outputs": [
    {
     "data": {
      "text/html": [
       "<div>\n",
       "<style scoped>\n",
       "    .dataframe tbody tr th:only-of-type {\n",
       "        vertical-align: middle;\n",
       "    }\n",
       "\n",
       "    .dataframe tbody tr th {\n",
       "        vertical-align: top;\n",
       "    }\n",
       "\n",
       "    .dataframe thead th {\n",
       "        text-align: right;\n",
       "    }\n",
       "</style>\n",
       "<table border=\"1\" class=\"dataframe\">\n",
       "  <thead>\n",
       "    <tr style=\"text-align: right;\">\n",
       "      <th></th>\n",
       "      <th>Cement</th>\n",
       "      <th>Blast Furnace Slag</th>\n",
       "      <th>Fly Ash</th>\n",
       "      <th>Water</th>\n",
       "      <th>Superplasticizer</th>\n",
       "      <th>Coarse Aggregate</th>\n",
       "      <th>Fine Aggregate</th>\n",
       "      <th>Age</th>\n",
       "      <th>Strength</th>\n",
       "    </tr>\n",
       "  </thead>\n",
       "  <tbody>\n",
       "    <tr>\n",
       "      <th>0</th>\n",
       "      <td>540.0</td>\n",
       "      <td>0.0</td>\n",
       "      <td>0.0</td>\n",
       "      <td>162.0</td>\n",
       "      <td>2.5</td>\n",
       "      <td>1040.0</td>\n",
       "      <td>676.0</td>\n",
       "      <td>28</td>\n",
       "      <td>79.99</td>\n",
       "    </tr>\n",
       "    <tr>\n",
       "      <th>1</th>\n",
       "      <td>540.0</td>\n",
       "      <td>0.0</td>\n",
       "      <td>0.0</td>\n",
       "      <td>162.0</td>\n",
       "      <td>2.5</td>\n",
       "      <td>1055.0</td>\n",
       "      <td>676.0</td>\n",
       "      <td>28</td>\n",
       "      <td>61.89</td>\n",
       "    </tr>\n",
       "    <tr>\n",
       "      <th>2</th>\n",
       "      <td>332.5</td>\n",
       "      <td>142.5</td>\n",
       "      <td>0.0</td>\n",
       "      <td>228.0</td>\n",
       "      <td>0.0</td>\n",
       "      <td>932.0</td>\n",
       "      <td>594.0</td>\n",
       "      <td>270</td>\n",
       "      <td>40.27</td>\n",
       "    </tr>\n",
       "    <tr>\n",
       "      <th>3</th>\n",
       "      <td>332.5</td>\n",
       "      <td>142.5</td>\n",
       "      <td>0.0</td>\n",
       "      <td>228.0</td>\n",
       "      <td>0.0</td>\n",
       "      <td>932.0</td>\n",
       "      <td>594.0</td>\n",
       "      <td>365</td>\n",
       "      <td>41.05</td>\n",
       "    </tr>\n",
       "    <tr>\n",
       "      <th>4</th>\n",
       "      <td>198.6</td>\n",
       "      <td>132.4</td>\n",
       "      <td>0.0</td>\n",
       "      <td>192.0</td>\n",
       "      <td>0.0</td>\n",
       "      <td>978.4</td>\n",
       "      <td>825.5</td>\n",
       "      <td>360</td>\n",
       "      <td>44.30</td>\n",
       "    </tr>\n",
       "  </tbody>\n",
       "</table>\n",
       "</div>"
      ],
      "text/plain": [
       "   Cement  Blast Furnace Slag  Fly Ash  Water  Superplasticizer  \\\n",
       "0   540.0                 0.0      0.0  162.0               2.5   \n",
       "1   540.0                 0.0      0.0  162.0               2.5   \n",
       "2   332.5               142.5      0.0  228.0               0.0   \n",
       "3   332.5               142.5      0.0  228.0               0.0   \n",
       "4   198.6               132.4      0.0  192.0               0.0   \n",
       "\n",
       "   Coarse Aggregate  Fine Aggregate  Age  Strength  \n",
       "0            1040.0           676.0   28     79.99  \n",
       "1            1055.0           676.0   28     61.89  \n",
       "2             932.0           594.0  270     40.27  \n",
       "3             932.0           594.0  365     41.05  \n",
       "4             978.4           825.5  360     44.30  "
      ]
     },
     "execution_count": 2,
     "metadata": {},
     "output_type": "execute_result"
    }
   ],
   "source": [
    "concrete_data = pd.read_csv('https://s3-api.us-geo.objectstorage.softlayer.net/cf-courses-data/CognitiveClass/DL0101EN/labs/data/concrete_data.csv')\n",
    "concrete_data.head()"
   ]
  },
  {
   "cell_type": "markdown",
   "metadata": {},
   "source": [
    "So the first concrete sample has 540 cubic meter of cement, 0 cubic meter of blast furnace slag, 0 cubic meter of fly ash, 162 cubic meter of water, 2.5 cubic meter of superplaticizer, 1040 cubic meter of coarse aggregate, 676 cubic meter of fine aggregate. Such a concrete mix which is 28 days old, has a compressive strength of 79.99 MPa. \n"
   ]
  },
  {
   "cell_type": "markdown",
   "metadata": {},
   "source": [
    "#### Let's check how many data points we have.\n"
   ]
  },
  {
   "cell_type": "code",
   "execution_count": 3,
   "metadata": {
    "tags": []
   },
   "outputs": [
    {
     "data": {
      "text/plain": [
       "(1030, 9)"
      ]
     },
     "execution_count": 3,
     "metadata": {},
     "output_type": "execute_result"
    }
   ],
   "source": [
    "concrete_data.shape"
   ]
  },
  {
   "cell_type": "markdown",
   "metadata": {},
   "source": [
    "So, there are approximately 1000 samples to train our model on. Because of the few samples, we have to be careful not to overfit the training data.\n"
   ]
  },
  {
   "cell_type": "markdown",
   "metadata": {},
   "source": [
    "Let's check the dataset for any missing values.\n"
   ]
  },
  {
   "cell_type": "code",
   "execution_count": 4,
   "metadata": {
    "tags": []
   },
   "outputs": [
    {
     "data": {
      "text/html": [
       "<div>\n",
       "<style scoped>\n",
       "    .dataframe tbody tr th:only-of-type {\n",
       "        vertical-align: middle;\n",
       "    }\n",
       "\n",
       "    .dataframe tbody tr th {\n",
       "        vertical-align: top;\n",
       "    }\n",
       "\n",
       "    .dataframe thead th {\n",
       "        text-align: right;\n",
       "    }\n",
       "</style>\n",
       "<table border=\"1\" class=\"dataframe\">\n",
       "  <thead>\n",
       "    <tr style=\"text-align: right;\">\n",
       "      <th></th>\n",
       "      <th>Cement</th>\n",
       "      <th>Blast Furnace Slag</th>\n",
       "      <th>Fly Ash</th>\n",
       "      <th>Water</th>\n",
       "      <th>Superplasticizer</th>\n",
       "      <th>Coarse Aggregate</th>\n",
       "      <th>Fine Aggregate</th>\n",
       "      <th>Age</th>\n",
       "      <th>Strength</th>\n",
       "    </tr>\n",
       "  </thead>\n",
       "  <tbody>\n",
       "    <tr>\n",
       "      <th>count</th>\n",
       "      <td>1030.000000</td>\n",
       "      <td>1030.000000</td>\n",
       "      <td>1030.000000</td>\n",
       "      <td>1030.000000</td>\n",
       "      <td>1030.000000</td>\n",
       "      <td>1030.000000</td>\n",
       "      <td>1030.000000</td>\n",
       "      <td>1030.000000</td>\n",
       "      <td>1030.000000</td>\n",
       "    </tr>\n",
       "    <tr>\n",
       "      <th>mean</th>\n",
       "      <td>281.167864</td>\n",
       "      <td>73.895825</td>\n",
       "      <td>54.188350</td>\n",
       "      <td>181.567282</td>\n",
       "      <td>6.204660</td>\n",
       "      <td>972.918932</td>\n",
       "      <td>773.580485</td>\n",
       "      <td>45.662136</td>\n",
       "      <td>35.817961</td>\n",
       "    </tr>\n",
       "    <tr>\n",
       "      <th>std</th>\n",
       "      <td>104.506364</td>\n",
       "      <td>86.279342</td>\n",
       "      <td>63.997004</td>\n",
       "      <td>21.354219</td>\n",
       "      <td>5.973841</td>\n",
       "      <td>77.753954</td>\n",
       "      <td>80.175980</td>\n",
       "      <td>63.169912</td>\n",
       "      <td>16.705742</td>\n",
       "    </tr>\n",
       "    <tr>\n",
       "      <th>min</th>\n",
       "      <td>102.000000</td>\n",
       "      <td>0.000000</td>\n",
       "      <td>0.000000</td>\n",
       "      <td>121.800000</td>\n",
       "      <td>0.000000</td>\n",
       "      <td>801.000000</td>\n",
       "      <td>594.000000</td>\n",
       "      <td>1.000000</td>\n",
       "      <td>2.330000</td>\n",
       "    </tr>\n",
       "    <tr>\n",
       "      <th>25%</th>\n",
       "      <td>192.375000</td>\n",
       "      <td>0.000000</td>\n",
       "      <td>0.000000</td>\n",
       "      <td>164.900000</td>\n",
       "      <td>0.000000</td>\n",
       "      <td>932.000000</td>\n",
       "      <td>730.950000</td>\n",
       "      <td>7.000000</td>\n",
       "      <td>23.710000</td>\n",
       "    </tr>\n",
       "    <tr>\n",
       "      <th>50%</th>\n",
       "      <td>272.900000</td>\n",
       "      <td>22.000000</td>\n",
       "      <td>0.000000</td>\n",
       "      <td>185.000000</td>\n",
       "      <td>6.400000</td>\n",
       "      <td>968.000000</td>\n",
       "      <td>779.500000</td>\n",
       "      <td>28.000000</td>\n",
       "      <td>34.445000</td>\n",
       "    </tr>\n",
       "    <tr>\n",
       "      <th>75%</th>\n",
       "      <td>350.000000</td>\n",
       "      <td>142.950000</td>\n",
       "      <td>118.300000</td>\n",
       "      <td>192.000000</td>\n",
       "      <td>10.200000</td>\n",
       "      <td>1029.400000</td>\n",
       "      <td>824.000000</td>\n",
       "      <td>56.000000</td>\n",
       "      <td>46.135000</td>\n",
       "    </tr>\n",
       "    <tr>\n",
       "      <th>max</th>\n",
       "      <td>540.000000</td>\n",
       "      <td>359.400000</td>\n",
       "      <td>200.100000</td>\n",
       "      <td>247.000000</td>\n",
       "      <td>32.200000</td>\n",
       "      <td>1145.000000</td>\n",
       "      <td>992.600000</td>\n",
       "      <td>365.000000</td>\n",
       "      <td>82.600000</td>\n",
       "    </tr>\n",
       "  </tbody>\n",
       "</table>\n",
       "</div>"
      ],
      "text/plain": [
       "            Cement  Blast Furnace Slag      Fly Ash        Water  \\\n",
       "count  1030.000000         1030.000000  1030.000000  1030.000000   \n",
       "mean    281.167864           73.895825    54.188350   181.567282   \n",
       "std     104.506364           86.279342    63.997004    21.354219   \n",
       "min     102.000000            0.000000     0.000000   121.800000   \n",
       "25%     192.375000            0.000000     0.000000   164.900000   \n",
       "50%     272.900000           22.000000     0.000000   185.000000   \n",
       "75%     350.000000          142.950000   118.300000   192.000000   \n",
       "max     540.000000          359.400000   200.100000   247.000000   \n",
       "\n",
       "       Superplasticizer  Coarse Aggregate  Fine Aggregate          Age  \\\n",
       "count       1030.000000       1030.000000     1030.000000  1030.000000   \n",
       "mean           6.204660        972.918932      773.580485    45.662136   \n",
       "std            5.973841         77.753954       80.175980    63.169912   \n",
       "min            0.000000        801.000000      594.000000     1.000000   \n",
       "25%            0.000000        932.000000      730.950000     7.000000   \n",
       "50%            6.400000        968.000000      779.500000    28.000000   \n",
       "75%           10.200000       1029.400000      824.000000    56.000000   \n",
       "max           32.200000       1145.000000      992.600000   365.000000   \n",
       "\n",
       "          Strength  \n",
       "count  1030.000000  \n",
       "mean     35.817961  \n",
       "std      16.705742  \n",
       "min       2.330000  \n",
       "25%      23.710000  \n",
       "50%      34.445000  \n",
       "75%      46.135000  \n",
       "max      82.600000  "
      ]
     },
     "execution_count": 4,
     "metadata": {},
     "output_type": "execute_result"
    }
   ],
   "source": [
    "concrete_data.describe()"
   ]
  },
  {
   "cell_type": "code",
   "execution_count": 5,
   "metadata": {
    "tags": []
   },
   "outputs": [
    {
     "data": {
      "text/plain": [
       "Cement                0\n",
       "Blast Furnace Slag    0\n",
       "Fly Ash               0\n",
       "Water                 0\n",
       "Superplasticizer      0\n",
       "Coarse Aggregate      0\n",
       "Fine Aggregate        0\n",
       "Age                   0\n",
       "Strength              0\n",
       "dtype: int64"
      ]
     },
     "execution_count": 5,
     "metadata": {},
     "output_type": "execute_result"
    }
   ],
   "source": [
    "concrete_data.isnull().sum()"
   ]
  },
  {
   "cell_type": "markdown",
   "metadata": {},
   "source": [
    "The data looks very clean and is ready to be used to build our model.\n"
   ]
  },
  {
   "cell_type": "markdown",
   "metadata": {},
   "source": [
    "#### Split data into predictors and target\n"
   ]
  },
  {
   "cell_type": "markdown",
   "metadata": {},
   "source": [
    "The target variable in this problem is the concrete sample strength. Therefore, our predictors will be all the other columns.\n"
   ]
  },
  {
   "cell_type": "code",
   "execution_count": 6,
   "metadata": {
    "tags": []
   },
   "outputs": [],
   "source": [
    "concrete_data_columns = concrete_data.columns\n",
    "\n",
    "predictors = concrete_data[concrete_data_columns[concrete_data_columns != 'Strength']] # all columns except Strength\n",
    "target = concrete_data['Strength'] # Strength column"
   ]
  },
  {
   "cell_type": "markdown",
   "metadata": {},
   "source": [
    "<a id=\"item2\"></a>\n"
   ]
  },
  {
   "cell_type": "markdown",
   "metadata": {},
   "source": [
    "Let's do a quick sanity check of the predictors and the target dataframes.\n"
   ]
  },
  {
   "cell_type": "code",
   "execution_count": 7,
   "metadata": {
    "tags": []
   },
   "outputs": [
    {
     "data": {
      "text/html": [
       "<div>\n",
       "<style scoped>\n",
       "    .dataframe tbody tr th:only-of-type {\n",
       "        vertical-align: middle;\n",
       "    }\n",
       "\n",
       "    .dataframe tbody tr th {\n",
       "        vertical-align: top;\n",
       "    }\n",
       "\n",
       "    .dataframe thead th {\n",
       "        text-align: right;\n",
       "    }\n",
       "</style>\n",
       "<table border=\"1\" class=\"dataframe\">\n",
       "  <thead>\n",
       "    <tr style=\"text-align: right;\">\n",
       "      <th></th>\n",
       "      <th>Cement</th>\n",
       "      <th>Blast Furnace Slag</th>\n",
       "      <th>Fly Ash</th>\n",
       "      <th>Water</th>\n",
       "      <th>Superplasticizer</th>\n",
       "      <th>Coarse Aggregate</th>\n",
       "      <th>Fine Aggregate</th>\n",
       "      <th>Age</th>\n",
       "    </tr>\n",
       "  </thead>\n",
       "  <tbody>\n",
       "    <tr>\n",
       "      <th>0</th>\n",
       "      <td>540.0</td>\n",
       "      <td>0.0</td>\n",
       "      <td>0.0</td>\n",
       "      <td>162.0</td>\n",
       "      <td>2.5</td>\n",
       "      <td>1040.0</td>\n",
       "      <td>676.0</td>\n",
       "      <td>28</td>\n",
       "    </tr>\n",
       "    <tr>\n",
       "      <th>1</th>\n",
       "      <td>540.0</td>\n",
       "      <td>0.0</td>\n",
       "      <td>0.0</td>\n",
       "      <td>162.0</td>\n",
       "      <td>2.5</td>\n",
       "      <td>1055.0</td>\n",
       "      <td>676.0</td>\n",
       "      <td>28</td>\n",
       "    </tr>\n",
       "    <tr>\n",
       "      <th>2</th>\n",
       "      <td>332.5</td>\n",
       "      <td>142.5</td>\n",
       "      <td>0.0</td>\n",
       "      <td>228.0</td>\n",
       "      <td>0.0</td>\n",
       "      <td>932.0</td>\n",
       "      <td>594.0</td>\n",
       "      <td>270</td>\n",
       "    </tr>\n",
       "    <tr>\n",
       "      <th>3</th>\n",
       "      <td>332.5</td>\n",
       "      <td>142.5</td>\n",
       "      <td>0.0</td>\n",
       "      <td>228.0</td>\n",
       "      <td>0.0</td>\n",
       "      <td>932.0</td>\n",
       "      <td>594.0</td>\n",
       "      <td>365</td>\n",
       "    </tr>\n",
       "    <tr>\n",
       "      <th>4</th>\n",
       "      <td>198.6</td>\n",
       "      <td>132.4</td>\n",
       "      <td>0.0</td>\n",
       "      <td>192.0</td>\n",
       "      <td>0.0</td>\n",
       "      <td>978.4</td>\n",
       "      <td>825.5</td>\n",
       "      <td>360</td>\n",
       "    </tr>\n",
       "  </tbody>\n",
       "</table>\n",
       "</div>"
      ],
      "text/plain": [
       "   Cement  Blast Furnace Slag  Fly Ash  Water  Superplasticizer  \\\n",
       "0   540.0                 0.0      0.0  162.0               2.5   \n",
       "1   540.0                 0.0      0.0  162.0               2.5   \n",
       "2   332.5               142.5      0.0  228.0               0.0   \n",
       "3   332.5               142.5      0.0  228.0               0.0   \n",
       "4   198.6               132.4      0.0  192.0               0.0   \n",
       "\n",
       "   Coarse Aggregate  Fine Aggregate  Age  \n",
       "0            1040.0           676.0   28  \n",
       "1            1055.0           676.0   28  \n",
       "2             932.0           594.0  270  \n",
       "3             932.0           594.0  365  \n",
       "4             978.4           825.5  360  "
      ]
     },
     "execution_count": 7,
     "metadata": {},
     "output_type": "execute_result"
    }
   ],
   "source": [
    "predictors.head()"
   ]
  },
  {
   "cell_type": "code",
   "execution_count": 8,
   "metadata": {
    "tags": []
   },
   "outputs": [
    {
     "data": {
      "text/plain": [
       "0    79.99\n",
       "1    61.89\n",
       "2    40.27\n",
       "3    41.05\n",
       "4    44.30\n",
       "Name: Strength, dtype: float64"
      ]
     },
     "execution_count": 8,
     "metadata": {},
     "output_type": "execute_result"
    }
   ],
   "source": [
    "target.head()"
   ]
  },
  {
   "cell_type": "markdown",
   "metadata": {},
   "source": [
    "Finally, the last step is to normalize the data by substracting the mean and dividing by the standard deviation.\n"
   ]
  },
  {
   "cell_type": "code",
   "execution_count": 9,
   "metadata": {
    "tags": []
   },
   "outputs": [
    {
     "data": {
      "text/html": [
       "<div>\n",
       "<style scoped>\n",
       "    .dataframe tbody tr th:only-of-type {\n",
       "        vertical-align: middle;\n",
       "    }\n",
       "\n",
       "    .dataframe tbody tr th {\n",
       "        vertical-align: top;\n",
       "    }\n",
       "\n",
       "    .dataframe thead th {\n",
       "        text-align: right;\n",
       "    }\n",
       "</style>\n",
       "<table border=\"1\" class=\"dataframe\">\n",
       "  <thead>\n",
       "    <tr style=\"text-align: right;\">\n",
       "      <th></th>\n",
       "      <th>Cement</th>\n",
       "      <th>Blast Furnace Slag</th>\n",
       "      <th>Fly Ash</th>\n",
       "      <th>Water</th>\n",
       "      <th>Superplasticizer</th>\n",
       "      <th>Coarse Aggregate</th>\n",
       "      <th>Fine Aggregate</th>\n",
       "      <th>Age</th>\n",
       "    </tr>\n",
       "  </thead>\n",
       "  <tbody>\n",
       "    <tr>\n",
       "      <th>0</th>\n",
       "      <td>2.476712</td>\n",
       "      <td>-0.856472</td>\n",
       "      <td>-0.846733</td>\n",
       "      <td>-0.916319</td>\n",
       "      <td>-0.620147</td>\n",
       "      <td>0.862735</td>\n",
       "      <td>-1.217079</td>\n",
       "      <td>-0.279597</td>\n",
       "    </tr>\n",
       "    <tr>\n",
       "      <th>1</th>\n",
       "      <td>2.476712</td>\n",
       "      <td>-0.856472</td>\n",
       "      <td>-0.846733</td>\n",
       "      <td>-0.916319</td>\n",
       "      <td>-0.620147</td>\n",
       "      <td>1.055651</td>\n",
       "      <td>-1.217079</td>\n",
       "      <td>-0.279597</td>\n",
       "    </tr>\n",
       "    <tr>\n",
       "      <th>2</th>\n",
       "      <td>0.491187</td>\n",
       "      <td>0.795140</td>\n",
       "      <td>-0.846733</td>\n",
       "      <td>2.174405</td>\n",
       "      <td>-1.038638</td>\n",
       "      <td>-0.526262</td>\n",
       "      <td>-2.239829</td>\n",
       "      <td>3.551340</td>\n",
       "    </tr>\n",
       "    <tr>\n",
       "      <th>3</th>\n",
       "      <td>0.491187</td>\n",
       "      <td>0.795140</td>\n",
       "      <td>-0.846733</td>\n",
       "      <td>2.174405</td>\n",
       "      <td>-1.038638</td>\n",
       "      <td>-0.526262</td>\n",
       "      <td>-2.239829</td>\n",
       "      <td>5.055221</td>\n",
       "    </tr>\n",
       "    <tr>\n",
       "      <th>4</th>\n",
       "      <td>-0.790075</td>\n",
       "      <td>0.678079</td>\n",
       "      <td>-0.846733</td>\n",
       "      <td>0.488555</td>\n",
       "      <td>-1.038638</td>\n",
       "      <td>0.070492</td>\n",
       "      <td>0.647569</td>\n",
       "      <td>4.976069</td>\n",
       "    </tr>\n",
       "  </tbody>\n",
       "</table>\n",
       "</div>"
      ],
      "text/plain": [
       "     Cement  Blast Furnace Slag   Fly Ash     Water  Superplasticizer  \\\n",
       "0  2.476712           -0.856472 -0.846733 -0.916319         -0.620147   \n",
       "1  2.476712           -0.856472 -0.846733 -0.916319         -0.620147   \n",
       "2  0.491187            0.795140 -0.846733  2.174405         -1.038638   \n",
       "3  0.491187            0.795140 -0.846733  2.174405         -1.038638   \n",
       "4 -0.790075            0.678079 -0.846733  0.488555         -1.038638   \n",
       "\n",
       "   Coarse Aggregate  Fine Aggregate       Age  \n",
       "0          0.862735       -1.217079 -0.279597  \n",
       "1          1.055651       -1.217079 -0.279597  \n",
       "2         -0.526262       -2.239829  3.551340  \n",
       "3         -0.526262       -2.239829  5.055221  \n",
       "4          0.070492        0.647569  4.976069  "
      ]
     },
     "execution_count": 9,
     "metadata": {},
     "output_type": "execute_result"
    }
   ],
   "source": [
    "predictors_norm = (predictors - predictors.mean()) / predictors.std()\n",
    "predictors_norm.head()"
   ]
  },
  {
   "cell_type": "markdown",
   "metadata": {},
   "source": [
    "Let's save the number of predictors to *n_cols* since we will need this number when building our network.\n"
   ]
  },
  {
   "cell_type": "code",
   "execution_count": 10,
   "metadata": {
    "tags": []
   },
   "outputs": [
    {
     "data": {
      "text/plain": [
       "8"
      ]
     },
     "execution_count": 10,
     "metadata": {},
     "output_type": "execute_result"
    }
   ],
   "source": [
    "n_cols = predictors_norm.shape[1] # number of predictors\n",
    "n_cols"
   ]
  },
  {
   "cell_type": "markdown",
   "metadata": {},
   "source": [
    "<a id=\"item1\"></a>\n"
   ]
  },
  {
   "cell_type": "markdown",
   "metadata": {},
   "source": [
    "<a id='item32'></a>\n"
   ]
  },
  {
   "cell_type": "markdown",
   "metadata": {
    "tags": []
   },
   "source": [
    "## Import Keras\n"
   ]
  },
  {
   "cell_type": "markdown",
   "metadata": {},
   "source": [
    "Recall from the videos that Keras normally runs on top of a low-level library such as TensorFlow. This means that to be able to use the Keras library, you will have to install TensorFlow first and when you import the Keras library, it will be explicitly displayed what backend was used to install the Keras library. In CC Labs, we used TensorFlow as the backend to install Keras, so it should clearly print that when we import Keras.\n"
   ]
  },
  {
   "cell_type": "markdown",
   "metadata": {},
   "source": [
    "#### Let's go ahead and import the Keras library\n"
   ]
  },
  {
   "cell_type": "code",
   "execution_count": 11,
   "metadata": {
    "tags": []
   },
   "outputs": [
    {
     "name": "stderr",
     "output_type": "stream",
     "text": [
      "Using TensorFlow backend.\n"
     ]
    }
   ],
   "source": [
    "import keras"
   ]
  },
  {
   "cell_type": "markdown",
   "metadata": {},
   "source": [
    "As you can see, the TensorFlow backend was used to install the Keras library.\n"
   ]
  },
  {
   "cell_type": "markdown",
   "metadata": {},
   "source": [
    "Let's import the rest of the packages from the Keras library that we will need to build our regressoin model.\n"
   ]
  },
  {
   "cell_type": "code",
   "execution_count": 12,
   "metadata": {
    "tags": []
   },
   "outputs": [],
   "source": [
    "from keras.models import Sequential\n",
    "from keras.layers import Dense"
   ]
  },
  {
   "cell_type": "markdown",
   "metadata": {},
   "source": [
    "<a id='item33'></a>\n"
   ]
  },
  {
   "cell_type": "markdown",
   "metadata": {
    "tags": []
   },
   "source": [
    "## Build a Neural Network\n"
   ]
  },
  {
   "cell_type": "markdown",
   "metadata": {},
   "source": [
    "Let's define a function that defines our regression model for us so that we can conveniently call it to create our model.\n"
   ]
  },
  {
   "cell_type": "code",
   "execution_count": 13,
   "metadata": {
    "tags": []
   },
   "outputs": [],
   "source": [
    "# define regression model\n",
    "def regression_model():\n",
    "    # create model\n",
    "    model = Sequential()\n",
    "    model.add(Dense(50, activation='relu', input_shape=(n_cols,)))\n",
    "    model.add(Dense(50, activation='relu'))\n",
    "    model.add(Dense(1))\n",
    "    \n",
    "    # compile model\n",
    "    model.compile(optimizer='adam', loss='mean_squared_error')\n",
    "    return model"
   ]
  },
  {
   "cell_type": "markdown",
   "metadata": {},
   "source": [
    "The above function create a model that has two hidden layers, each of 50 hidden units.\n"
   ]
  },
  {
   "cell_type": "markdown",
   "metadata": {},
   "source": [
    "<a id=\"item4\"></a>\n"
   ]
  },
  {
   "cell_type": "markdown",
   "metadata": {},
   "source": [
    "<a id='item34'></a>\n"
   ]
  },
  {
   "cell_type": "markdown",
   "metadata": {
    "tags": []
   },
   "source": [
    "## Train and Test the Network\n"
   ]
  },
  {
   "cell_type": "markdown",
   "metadata": {},
   "source": [
    "Let's call the function now to create our model.\n"
   ]
  },
  {
   "cell_type": "code",
   "execution_count": 14,
   "metadata": {
    "tags": []
   },
   "outputs": [
    {
     "name": "stdout",
     "output_type": "stream",
     "text": [
      "WARNING:tensorflow:From /home/jupyterlab/conda/envs/python/lib/python3.7/site-packages/keras/backend/tensorflow_backend.py:68: The name tf.get_default_graph is deprecated. Please use tf.compat.v1.get_default_graph instead.\n",
      "\n",
      "WARNING:tensorflow:From /home/jupyterlab/conda/envs/python/lib/python3.7/site-packages/keras/backend/tensorflow_backend.py:508: The name tf.placeholder is deprecated. Please use tf.compat.v1.placeholder instead.\n",
      "\n",
      "WARNING:tensorflow:From /home/jupyterlab/conda/envs/python/lib/python3.7/site-packages/keras/backend/tensorflow_backend.py:3837: The name tf.random_uniform is deprecated. Please use tf.random.uniform instead.\n",
      "\n",
      "WARNING:tensorflow:From /home/jupyterlab/conda/envs/python/lib/python3.7/site-packages/keras/optimizers.py:757: The name tf.train.Optimizer is deprecated. Please use tf.compat.v1.train.Optimizer instead.\n",
      "\n"
     ]
    }
   ],
   "source": [
    "# build the model\n",
    "model = regression_model()"
   ]
  },
  {
   "cell_type": "markdown",
   "metadata": {},
   "source": [
    "Next, we will train and test the model at the same time using the *fit* method. We will leave out 30% of the data for validation and we will train the model for 100 epochs.\n"
   ]
  },
  {
   "cell_type": "code",
   "execution_count": 15,
   "metadata": {
    "tags": []
   },
   "outputs": [
    {
     "name": "stdout",
     "output_type": "stream",
     "text": [
      "WARNING:tensorflow:From /home/jupyterlab/conda/envs/python/lib/python3.7/site-packages/keras/backend/tensorflow_backend.py:977: The name tf.assign_add is deprecated. Please use tf.compat.v1.assign_add instead.\n",
      "\n",
      "WARNING:tensorflow:From /home/jupyterlab/conda/envs/python/lib/python3.7/site-packages/keras/backend/tensorflow_backend.py:964: The name tf.assign is deprecated. Please use tf.compat.v1.assign instead.\n",
      "\n",
      "Train on 721 samples, validate on 309 samples\n",
      "Epoch 1/100\n"
     ]
    },
    {
     "name": "stderr",
     "output_type": "stream",
     "text": [
      "2024-10-26 07:28:01.272782: I tensorflow/core/platform/cpu_feature_guard.cc:142] Your CPU supports instructions that this TensorFlow binary was not compiled to use: SSE4.1 SSE4.2 AVX AVX2 AVX512F FMA\n",
      "2024-10-26 07:28:01.280710: I tensorflow/core/platform/profile_utils/cpu_utils.cc:94] CPU Frequency: 2394330000 Hz\n",
      "2024-10-26 07:28:01.281300: I tensorflow/compiler/xla/service/service.cc:168] XLA service 0x5642744339c0 executing computations on platform Host. Devices:\n",
      "2024-10-26 07:28:01.281347: I tensorflow/compiler/xla/service/service.cc:175]   StreamExecutor device (0): <undefined>, <undefined>\n",
      "2024-10-26 07:28:01.380731: W tensorflow/compiler/jit/mark_for_compilation_pass.cc:1412] (One-time warning): Not using XLA:CPU for cluster because envvar TF_XLA_FLAGS=--tf_xla_cpu_global_jit was not set.  If you want XLA:CPU, either set that envvar, or use experimental_jit_scope to enable XLA:CPU.  To confirm that XLA is active, pass --vmodule=xla_compilation_cache=1 (as a proper command-line flag, not via TF_XLA_FLAGS) or set the envvar XLA_FLAGS=--xla_hlo_profile.\n"
     ]
    },
    {
     "name": "stdout",
     "output_type": "stream",
     "text": [
      " - 0s - loss: 1651.5555 - val_loss: 1143.4384\n",
      "Epoch 2/100\n",
      " - 0s - loss: 1515.7915 - val_loss: 1015.2065\n",
      "Epoch 3/100\n",
      " - 0s - loss: 1306.7085 - val_loss: 828.5755\n",
      "Epoch 4/100\n",
      " - 0s - loss: 1001.2932 - val_loss: 599.7230\n",
      "Epoch 5/100\n",
      " - 0s - loss: 643.7475 - val_loss: 381.4793\n",
      "Epoch 6/100\n",
      " - 0s - loss: 374.2398 - val_loss: 249.8833\n",
      "Epoch 7/100\n",
      " - 0s - loss: 259.6566 - val_loss: 206.8109\n",
      "Epoch 8/100\n",
      " - 0s - loss: 231.8733 - val_loss: 189.1427\n",
      "Epoch 9/100\n",
      " - 0s - loss: 213.9292 - val_loss: 180.8361\n",
      "Epoch 10/100\n",
      " - 0s - loss: 202.6071 - val_loss: 175.0449\n",
      "Epoch 11/100\n",
      " - 0s - loss: 193.0796 - val_loss: 170.7427\n",
      "Epoch 12/100\n",
      " - 0s - loss: 185.5734 - val_loss: 165.8217\n",
      "Epoch 13/100\n",
      " - 0s - loss: 179.5013 - val_loss: 166.1771\n",
      "Epoch 14/100\n",
      " - 0s - loss: 174.3724 - val_loss: 165.8614\n",
      "Epoch 15/100\n",
      " - 0s - loss: 170.3509 - val_loss: 161.4512\n",
      "Epoch 16/100\n",
      " - 0s - loss: 165.9998 - val_loss: 162.5628\n",
      "Epoch 17/100\n",
      " - 0s - loss: 162.3624 - val_loss: 161.5822\n",
      "Epoch 18/100\n",
      " - 0s - loss: 160.0794 - val_loss: 161.5834\n",
      "Epoch 19/100\n",
      " - 0s - loss: 156.7073 - val_loss: 162.1561\n",
      "Epoch 20/100\n",
      " - 0s - loss: 154.3956 - val_loss: 162.5283\n",
      "Epoch 21/100\n",
      " - 0s - loss: 151.9911 - val_loss: 161.5956\n",
      "Epoch 22/100\n",
      " - 0s - loss: 149.9746 - val_loss: 162.5714\n",
      "Epoch 23/100\n",
      " - 0s - loss: 148.3332 - val_loss: 161.9799\n",
      "Epoch 24/100\n",
      " - 0s - loss: 146.1882 - val_loss: 161.6509\n",
      "Epoch 25/100\n",
      " - 0s - loss: 144.3029 - val_loss: 162.4239\n",
      "Epoch 26/100\n",
      " - 0s - loss: 142.8535 - val_loss: 162.4603\n",
      "Epoch 27/100\n",
      " - 0s - loss: 141.4773 - val_loss: 161.4958\n",
      "Epoch 28/100\n",
      " - 0s - loss: 139.8901 - val_loss: 161.4109\n",
      "Epoch 29/100\n",
      " - 0s - loss: 138.5001 - val_loss: 161.0385\n",
      "Epoch 30/100\n",
      " - 0s - loss: 136.2465 - val_loss: 162.5375\n",
      "Epoch 31/100\n",
      " - 0s - loss: 134.7326 - val_loss: 159.8437\n",
      "Epoch 32/100\n",
      " - 0s - loss: 132.7894 - val_loss: 157.0411\n",
      "Epoch 33/100\n",
      " - 0s - loss: 131.3288 - val_loss: 160.3929\n",
      "Epoch 34/100\n",
      " - 0s - loss: 129.5011 - val_loss: 158.8033\n",
      "Epoch 35/100\n",
      " - 0s - loss: 127.9855 - val_loss: 159.6951\n",
      "Epoch 36/100\n",
      " - 0s - loss: 125.6946 - val_loss: 156.2221\n",
      "Epoch 37/100\n",
      " - 0s - loss: 124.1528 - val_loss: 159.0968\n",
      "Epoch 38/100\n",
      " - 0s - loss: 121.7554 - val_loss: 154.7741\n",
      "Epoch 39/100\n",
      " - 0s - loss: 120.1646 - val_loss: 159.0659\n",
      "Epoch 40/100\n",
      " - 0s - loss: 117.7622 - val_loss: 154.5205\n",
      "Epoch 41/100\n",
      " - 0s - loss: 115.5279 - val_loss: 154.6475\n",
      "Epoch 42/100\n",
      " - 0s - loss: 112.4733 - val_loss: 155.3631\n",
      "Epoch 43/100\n",
      " - 0s - loss: 110.1961 - val_loss: 152.5208\n",
      "Epoch 44/100\n",
      " - 0s - loss: 107.9716 - val_loss: 151.7031\n",
      "Epoch 45/100\n",
      " - 0s - loss: 105.2739 - val_loss: 153.6554\n",
      "Epoch 46/100\n",
      " - 0s - loss: 101.4808 - val_loss: 149.9355\n",
      "Epoch 47/100\n",
      " - 0s - loss: 98.5792 - val_loss: 149.2273\n",
      "Epoch 48/100\n",
      " - 0s - loss: 95.6164 - val_loss: 150.4765\n",
      "Epoch 49/100\n",
      " - 0s - loss: 91.6871 - val_loss: 145.1978\n",
      "Epoch 50/100\n",
      " - 0s - loss: 89.2210 - val_loss: 146.3261\n",
      "Epoch 51/100\n",
      " - 0s - loss: 85.2896 - val_loss: 153.6149\n",
      "Epoch 52/100\n",
      " - 0s - loss: 82.4859 - val_loss: 141.4116\n",
      "Epoch 53/100\n",
      " - 0s - loss: 81.3195 - val_loss: 154.9665\n",
      "Epoch 54/100\n",
      " - 0s - loss: 77.0284 - val_loss: 140.5086\n",
      "Epoch 55/100\n",
      " - 0s - loss: 74.0508 - val_loss: 147.1792\n",
      "Epoch 56/100\n",
      " - 0s - loss: 70.8361 - val_loss: 144.6410\n",
      "Epoch 57/100\n",
      " - 0s - loss: 68.6285 - val_loss: 151.1076\n",
      "Epoch 58/100\n",
      " - 0s - loss: 66.9902 - val_loss: 151.7766\n",
      "Epoch 59/100\n",
      " - 0s - loss: 64.7453 - val_loss: 145.9864\n",
      "Epoch 60/100\n",
      " - 0s - loss: 62.5769 - val_loss: 144.2206\n",
      "Epoch 61/100\n",
      " - 0s - loss: 60.5224 - val_loss: 147.1120\n",
      "Epoch 62/100\n",
      " - 0s - loss: 59.1278 - val_loss: 152.3079\n",
      "Epoch 63/100\n",
      " - 0s - loss: 58.1554 - val_loss: 147.4132\n",
      "Epoch 64/100\n",
      " - 0s - loss: 56.2714 - val_loss: 152.8774\n",
      "Epoch 65/100\n",
      " - 0s - loss: 54.7146 - val_loss: 146.7904\n",
      "Epoch 66/100\n",
      " - 0s - loss: 53.6987 - val_loss: 156.4555\n",
      "Epoch 67/100\n",
      " - 0s - loss: 52.1823 - val_loss: 152.9639\n",
      "Epoch 68/100\n",
      " - 0s - loss: 50.9044 - val_loss: 154.2507\n",
      "Epoch 69/100\n",
      " - 0s - loss: 50.0407 - val_loss: 151.9075\n",
      "Epoch 70/100\n",
      " - 0s - loss: 48.7394 - val_loss: 151.2223\n",
      "Epoch 71/100\n",
      " - 0s - loss: 47.9144 - val_loss: 152.5837\n",
      "Epoch 72/100\n",
      " - 0s - loss: 47.4434 - val_loss: 149.0509\n",
      "Epoch 73/100\n",
      " - 0s - loss: 46.4052 - val_loss: 154.4010\n",
      "Epoch 74/100\n",
      " - 0s - loss: 45.5600 - val_loss: 157.7358\n",
      "Epoch 75/100\n",
      " - 0s - loss: 44.1307 - val_loss: 149.3919\n",
      "Epoch 76/100\n",
      " - 0s - loss: 43.5147 - val_loss: 149.9344\n",
      "Epoch 77/100\n",
      " - 0s - loss: 43.2029 - val_loss: 144.8361\n",
      "Epoch 78/100\n",
      " - 0s - loss: 41.8187 - val_loss: 164.1678\n",
      "Epoch 79/100\n",
      " - 0s - loss: 41.0464 - val_loss: 148.1171\n",
      "Epoch 80/100\n",
      " - 0s - loss: 40.0454 - val_loss: 161.4718\n",
      "Epoch 81/100\n",
      " - 0s - loss: 39.4496 - val_loss: 151.5891\n",
      "Epoch 82/100\n",
      " - 0s - loss: 38.6511 - val_loss: 149.4634\n",
      "Epoch 83/100\n",
      " - 0s - loss: 38.2748 - val_loss: 165.3386\n",
      "Epoch 84/100\n",
      " - 0s - loss: 37.8497 - val_loss: 150.2644\n",
      "Epoch 85/100\n",
      " - 0s - loss: 37.1086 - val_loss: 151.7370\n",
      "Epoch 86/100\n",
      " - 0s - loss: 36.2778 - val_loss: 145.9610\n",
      "Epoch 87/100\n",
      " - 0s - loss: 36.4398 - val_loss: 156.8733\n",
      "Epoch 88/100\n",
      " - 0s - loss: 35.6584 - val_loss: 156.0703\n",
      "Epoch 89/100\n",
      " - 0s - loss: 35.2059 - val_loss: 158.6388\n",
      "Epoch 90/100\n",
      " - 0s - loss: 34.8732 - val_loss: 161.7240\n",
      "Epoch 91/100\n",
      " - 0s - loss: 34.9810 - val_loss: 150.5257\n",
      "Epoch 92/100\n",
      " - 0s - loss: 33.3638 - val_loss: 148.7206\n",
      "Epoch 93/100\n",
      " - 0s - loss: 32.9519 - val_loss: 153.7520\n",
      "Epoch 94/100\n",
      " - 0s - loss: 32.7307 - val_loss: 141.4171\n",
      "Epoch 95/100\n",
      " - 0s - loss: 32.3027 - val_loss: 147.0897\n",
      "Epoch 96/100\n",
      " - 0s - loss: 31.9933 - val_loss: 149.6109\n",
      "Epoch 97/100\n",
      " - 0s - loss: 31.4274 - val_loss: 143.0249\n",
      "Epoch 98/100\n",
      " - 0s - loss: 31.0741 - val_loss: 156.2672\n",
      "Epoch 99/100\n",
      " - 0s - loss: 31.0928 - val_loss: 147.6317\n",
      "Epoch 100/100\n",
      " - 0s - loss: 31.2088 - val_loss: 149.6033\n"
     ]
    },
    {
     "data": {
      "text/plain": [
       "<keras.callbacks.History at 0x7f131b52fe10>"
      ]
     },
     "execution_count": 15,
     "metadata": {},
     "output_type": "execute_result"
    }
   ],
   "source": [
    "# fit the model\n",
    "model.fit(predictors_norm, target, validation_split=0.3, epochs=100, verbose=2)"
   ]
  },
  {
   "cell_type": "markdown",
   "metadata": {},
   "source": [
    "<strong>You can refer to this [link](https://keras.io/models/sequential/) to learn about other functions that you can use for prediction or evaluation.</strong>\n"
   ]
  },
  {
   "cell_type": "markdown",
   "metadata": {},
   "source": [
    "Feel free to vary the following and note what impact each change has on the model's performance:\n",
    "\n",
    "1. Increase or decreate number of neurons in hidden layers\n",
    "2. Add more hidden layers\n",
    "3. Increase number of epochs\n"
   ]
  },
  {
   "cell_type": "markdown",
   "metadata": {},
   "source": [
    "### Thank you for completing this lab!\n",
    "\n",
    "This notebook was created by [Alex Aklson](https://www.linkedin.com/in/aklson/). I hope you found this lab interesting and educational. Feel free to contact me if you have any questions!\n"
   ]
  },
  {
   "cell_type": "markdown",
   "metadata": {
    "jp-MarkdownHeadingCollapsed": true,
    "tags": []
   },
   "source": [
    "\n",
    "## Change Log\n",
    "\n",
    "|  Date (YYYY-MM-DD) |  Version | Changed By  |  Change Description |\n",
    "|---|---|---|---|\n",
    "| 2020-09-21  | 2.0  | Srishti  |  Migrated Lab to Markdown and added to course repo in GitLab |\n",
    "\n",
    "\n",
    "\n",
    "<hr>\n",
    "\n",
    "## <h3 align=\"center\"> © IBM Corporation 2020. All rights reserved. <h3/>\n"
   ]
  },
  {
   "cell_type": "markdown",
   "metadata": {},
   "source": [
    "This notebook is part of a course on **Coursera** called *Introduction to Deep Learning & Neural Networks with Keras*. If you accessed this notebook outside the course, you can take this course online by clicking [here](https://cocl.us/DL0101EN_Coursera_Week3_LAB1).\n"
   ]
  },
  {
   "cell_type": "markdown",
   "metadata": {},
   "source": [
    "<hr>\n",
    "\n",
    "Copyright &copy; 2019 [IBM Developer Skills Network](https://cognitiveclass.ai/?utm_source=bducopyrightlink&utm_medium=dswb&utm_campaign=bdu). This notebook and its source code are released under the terms of the [MIT License](https://bigdatauniversity.com/mit-license/).\n"
   ]
  },
  {
   "cell_type": "markdown",
   "metadata": {
    "tags": []
   },
   "source": [
    "# <b>Peer-graded Assignment: Build a Regression Model in Keras</b>"
   ]
  },
  {
   "cell_type": "markdown",
   "metadata": {
    "jp-MarkdownHeadingCollapsed": true,
    "tags": []
   },
   "source": [
    "## A. Build a baseline model (5 marks)\n",
    "\n",
    "Use the Keras library to build a neural network with the following:\n",
    "\n",
    "- One hidden layer of 10 nodes, and a ReLU activation function\n",
    "\n",
    "- Use the adam optimizer and the mean squared error  as the loss function.\n",
    "\n",
    "1. Randomly split the data into a training and test sets by holding 30% of the data for testing. You can use the \n",
    "train_test_split\n",
    "helper function from Scikit-learn.\n",
    "\n",
    "2. Train the model on the training data using 50 epochs.\n",
    "\n",
    "3. Evaluate the model on the test data and compute the mean squared error between the predicted concrete strength and the actual concrete strength. You can use the mean_squared_error function from Scikit-learn.\n",
    "\n",
    "4. Repeat steps 1 - 3, 50 times, i.e., create a list of 50 mean squared errors.\n",
    "\n",
    "5. Report the mean and the standard deviation of the mean squared errors."
   ]
  },
  {
   "cell_type": "code",
   "execution_count": 16,
   "metadata": {
    "tags": []
   },
   "outputs": [],
   "source": [
    "import keras\n",
    "from keras.models import Sequential\n",
    "from keras.layers import Dense"
   ]
  },
  {
   "cell_type": "code",
   "execution_count": 17,
   "metadata": {
    "tags": []
   },
   "outputs": [
    {
     "name": "stderr",
     "output_type": "stream",
     "text": [
      "/home/jupyterlab/conda/envs/python/lib/python3.7/site-packages/sklearn/utils/validation.py:37: DeprecationWarning: distutils Version classes are deprecated. Use packaging.version instead.\n",
      "  LARGE_SPARSE_SUPPORTED = LooseVersion(scipy_version) >= '0.14.0'\n"
     ]
    }
   ],
   "source": [
    "from sklearn.model_selection import train_test_split #import scikit-learn in order to randomly split the data into a training and test sets"
   ]
  },
  {
   "cell_type": "code",
   "execution_count": 18,
   "metadata": {
    "tags": []
   },
   "outputs": [],
   "source": [
    "# define regression model\n",
    "def regression_model():\n",
    "    # create model\n",
    "    model = Sequential()\n",
    "    model.add(Dense(10, activation='relu', input_shape=(n_cols,)))\n",
    "    model.add(Dense(1))\n",
    "    \n",
    "    # compile model\n",
    "    model.compile(optimizer='adam', loss='mean_squared_error')\n",
    "    return model"
   ]
  },
  {
   "cell_type": "code",
   "execution_count": 19,
   "metadata": {
    "tags": []
   },
   "outputs": [],
   "source": [
    "# Splitting the data into a training and test sets by holding 30% of the data for testing\n",
    "X_train, X_test, y_train, y_test = train_test_split(predictors, target, test_size=0.3, random_state=42)"
   ]
  },
  {
   "cell_type": "code",
   "execution_count": 20,
   "metadata": {
    "tags": []
   },
   "outputs": [],
   "source": [
    "# build the model\n",
    "model = regression_model()"
   ]
  },
  {
   "cell_type": "code",
   "execution_count": 21,
   "metadata": {
    "tags": []
   },
   "outputs": [
    {
     "name": "stdout",
     "output_type": "stream",
     "text": [
      "Epoch 1/50\n",
      " - 0s - loss: 842.3669\n",
      "Epoch 2/50\n",
      " - 0s - loss: 374.8185\n",
      "Epoch 3/50\n",
      " - 0s - loss: 316.5862\n",
      "Epoch 4/50\n",
      " - 0s - loss: 286.3623\n",
      "Epoch 5/50\n",
      " - 0s - loss: 258.3334\n",
      "Epoch 6/50\n",
      " - 0s - loss: 237.8454\n",
      "Epoch 7/50\n",
      " - 0s - loss: 222.1769\n",
      "Epoch 8/50\n",
      " - 0s - loss: 205.9553\n",
      "Epoch 9/50\n",
      " - 0s - loss: 197.3940\n",
      "Epoch 10/50\n",
      " - 0s - loss: 190.7618\n",
      "Epoch 11/50\n",
      " - 0s - loss: 181.1222\n",
      "Epoch 12/50\n",
      " - 0s - loss: 173.8582\n",
      "Epoch 13/50\n",
      " - 0s - loss: 171.1186\n",
      "Epoch 14/50\n",
      " - 0s - loss: 165.4447\n",
      "Epoch 15/50\n",
      " - 0s - loss: 159.5375\n",
      "Epoch 16/50\n",
      " - 0s - loss: 156.0658\n",
      "Epoch 17/50\n",
      " - 0s - loss: 152.8736\n",
      "Epoch 18/50\n",
      " - 0s - loss: 150.0819\n",
      "Epoch 19/50\n",
      " - 0s - loss: 148.2024\n",
      "Epoch 20/50\n",
      " - 0s - loss: 147.0979\n",
      "Epoch 21/50\n",
      " - 0s - loss: 144.7750\n",
      "Epoch 22/50\n",
      " - 0s - loss: 143.3839\n",
      "Epoch 23/50\n",
      " - 0s - loss: 144.3408\n",
      "Epoch 24/50\n",
      " - 0s - loss: 141.4089\n",
      "Epoch 25/50\n",
      " - 0s - loss: 140.4428\n",
      "Epoch 26/50\n",
      " - 0s - loss: 139.4580\n",
      "Epoch 27/50\n",
      " - 0s - loss: 138.2275\n",
      "Epoch 28/50\n",
      " - 0s - loss: 137.8261\n",
      "Epoch 29/50\n",
      " - 0s - loss: 138.1051\n",
      "Epoch 30/50\n",
      " - 0s - loss: 135.5393\n",
      "Epoch 31/50\n",
      " - 0s - loss: 135.1376\n",
      "Epoch 32/50\n",
      " - 0s - loss: 134.8997\n",
      "Epoch 33/50\n",
      " - 0s - loss: 134.2598\n",
      "Epoch 34/50\n",
      " - 0s - loss: 133.0008\n",
      "Epoch 35/50\n",
      " - 0s - loss: 131.7226\n",
      "Epoch 36/50\n",
      " - 0s - loss: 131.3405\n",
      "Epoch 37/50\n",
      " - 0s - loss: 130.7081\n",
      "Epoch 38/50\n",
      " - 0s - loss: 130.1543\n",
      "Epoch 39/50\n",
      " - 0s - loss: 129.9677\n",
      "Epoch 40/50\n",
      " - 0s - loss: 128.1630\n",
      "Epoch 41/50\n",
      " - 0s - loss: 128.5855\n",
      "Epoch 42/50\n",
      " - 0s - loss: 128.1313\n",
      "Epoch 43/50\n",
      " - 0s - loss: 127.7988\n",
      "Epoch 44/50\n",
      " - 0s - loss: 126.8654\n",
      "Epoch 45/50\n",
      " - 0s - loss: 131.3748\n",
      "Epoch 46/50\n",
      " - 0s - loss: 128.2820\n",
      "Epoch 47/50\n",
      " - 0s - loss: 125.3910\n",
      "Epoch 48/50\n",
      " - 0s - loss: 123.7792\n",
      "Epoch 49/50\n",
      " - 0s - loss: 125.1528\n",
      "Epoch 50/50\n",
      " - 0s - loss: 126.0771\n"
     ]
    },
    {
     "data": {
      "text/plain": [
       "<keras.callbacks.History at 0x7f13068d3050>"
      ]
     },
     "execution_count": 21,
     "metadata": {},
     "output_type": "execute_result"
    }
   ],
   "source": [
    "# fit the model\n",
    "epochs = 50 #train the model for 50 epochs\n",
    "model.fit(X_train, y_train, epochs=epochs, verbose=2)"
   ]
  },
  {
   "cell_type": "code",
   "execution_count": 22,
   "metadata": {
    "tags": []
   },
   "outputs": [
    {
     "name": "stdout",
     "output_type": "stream",
     "text": [
      "309/309 [==============================] - 0s 135us/step\n"
     ]
    },
    {
     "data": {
      "text/plain": [
       "125.42986902527053"
      ]
     },
     "execution_count": 22,
     "metadata": {},
     "output_type": "execute_result"
    }
   ],
   "source": [
    "# evaluate the model on the test data\n",
    "loss_val = model.evaluate(X_test, y_test)\n",
    "y_pred = model.predict(X_test)\n",
    "loss_val"
   ]
  },
  {
   "cell_type": "code",
   "execution_count": 23,
   "metadata": {
    "tags": []
   },
   "outputs": [],
   "source": [
    "from sklearn.metrics import mean_squared_error #  import the mean_squared_error function from Scikit-learn"
   ]
  },
  {
   "cell_type": "code",
   "execution_count": 24,
   "metadata": {
    "tags": []
   },
   "outputs": [
    {
     "name": "stdout",
     "output_type": "stream",
     "text": [
      "125.42986932700694 0.0\n"
     ]
    }
   ],
   "source": [
    "mean_square_error = mean_squared_error(y_test, y_pred)\n",
    "mean = np.mean(mean_square_error)\n",
    "standard_deviation = np.std(mean_square_error)\n",
    "print(mean, standard_deviation)"
   ]
  },
  {
   "cell_type": "code",
   "execution_count": 25,
   "metadata": {
    "tags": []
   },
   "outputs": [
    {
     "name": "stdout",
     "output_type": "stream",
     "text": [
      "MSE 1: 93.81765456955796\n",
      "MSE 2: 120.84366876793526\n",
      "MSE 3: 70.43377181858692\n",
      "MSE 4: 67.95611392024266\n",
      "MSE 5: 59.77221180937437\n",
      "MSE 6: 61.25886352934112\n",
      "MSE 7: 60.31048250661313\n",
      "MSE 8: 48.685121715261715\n",
      "MSE 9: 51.22316964158734\n",
      "MSE 10: 56.41491531322689\n",
      "MSE 11: 48.61575534660068\n",
      "MSE 12: 45.71423892295862\n",
      "MSE 13: 55.372431764324894\n",
      "MSE 14: 55.982422912005084\n",
      "MSE 15: 50.089460107500884\n",
      "MSE 16: 44.73794136541175\n",
      "MSE 17: 53.54830706698223\n",
      "MSE 18: 48.766874763957894\n",
      "MSE 19: 47.16657743484843\n",
      "MSE 20: 47.77194326209405\n",
      "MSE 21: 44.65852988036319\n",
      "MSE 22: 46.71389827296186\n",
      "MSE 23: 46.39951989874485\n",
      "MSE 24: 47.24669841037985\n",
      "MSE 25: 52.11912350207085\n",
      "MSE 26: 50.84433378447992\n",
      "MSE 27: 49.75451803361714\n",
      "MSE 28: 45.223770623068205\n",
      "MSE 29: 52.6043200323111\n",
      "MSE 30: 53.710824367683685\n",
      "MSE 31: 52.400101028985574\n",
      "MSE 32: 44.89260991414388\n",
      "MSE 33: 47.24699241366587\n",
      "MSE 34: 49.910494313656706\n",
      "MSE 35: 47.51625722743161\n",
      "MSE 36: 54.9236761914102\n",
      "MSE 37: 53.77386240665967\n",
      "MSE 38: 53.39561329073119\n",
      "MSE 39: 52.08991077262607\n",
      "MSE 40: 44.621515341946996\n",
      "MSE 41: 54.73227196603917\n",
      "MSE 42: 45.17112354167457\n",
      "MSE 43: 55.52455584825435\n",
      "MSE 44: 54.3151679918604\n",
      "MSE 45: 55.00134472399468\n",
      "MSE 46: 55.60770428605064\n",
      "MSE 47: 51.25468452231398\n",
      "MSE 48: 51.04462263730738\n",
      "MSE 49: 53.42056136146718\n",
      "MSE 50: 56.21198836885224\n",
      "\n",
      "\n",
      "Below is the mean and standard deviation of 50 mean squared errors without normalized data. Total number of epochs for each training is: 50\n",
      "\n",
      "Mean: 54.216249525364\n",
      "Standard Deviation: 12.44531662793539\n"
     ]
    }
   ],
   "source": [
    "# Create a list of 50 mean squared errors and report mean and the standard deviation of the mean squared errors.\n",
    "total_mean_squared_errors = 50\n",
    "epochs = 50\n",
    "mean_squared_errors_A = []\n",
    "for i in range(0, total_mean_squared_errors):\n",
    "    X_train, X_test, y_train, y_test = train_test_split(predictors, target, test_size=0.3, random_state=i)\n",
    "    model.fit(X_train, y_train, epochs=epochs, verbose=0)\n",
    "    MSE = model.evaluate(X_test, y_test, verbose=0)\n",
    "    print(\"MSE \"+str(i+1)+\": \"+str(MSE))\n",
    "    y_pred = model.predict(X_test)\n",
    "    mean_square_error = mean_squared_error(y_test, y_pred)\n",
    "    mean_squared_errors_A.append(mean_square_error)\n",
    "\n",
    "mean_squared_errors_A = np.array(mean_squared_errors_A)\n",
    "mean_A = np.mean(mean_squared_errors_A)\n",
    "standard_deviation_A = np.std(mean_squared_errors_A)\n",
    "\n",
    "print('\\n')\n",
    "print(\"Below is the mean and standard deviation of \" +str(total_mean_squared_errors) + \" mean squared errors without normalized data. Total number of epochs for each training is: \" +str(epochs) + \"\\n\")\n",
    "print(\"Mean: \"+str(mean_A))\n",
    "print(\"Standard Deviation: \"+str(standard_deviation_A))"
   ]
  },
  {
   "cell_type": "code",
   "execution_count": 26,
   "metadata": {
    "tags": []
   },
   "outputs": [],
   "source": [
    "import matplotlib.pyplot as plt\n",
    "%matplotlib inline\n",
    "\n",
    "figsize = (10,8)\n",
    "nbins   = 20\n",
    "def plot_results(result_list,\n",
    "                 label_list,\n",
    "                 var_name = \"sq(mse)\",\n",
    "                 figsize = (15,10),\n",
    "                 nbins = 10):\n",
    "    \"\"\"\n",
    "    plotting function\n",
    "    \n",
    "    parameters:\n",
    "    -----------\n",
    "      - result_list: list of np.arrays with the metrics of the niterations\n",
    "      - label_list:  list of labels\n",
    "    \"\"\"\n",
    "    \n",
    "    if len(result_list) != len(label_list):\n",
    "        raise ValueError(\"lenghts of result_list and label_list has to be the same\")\n",
    "        \n",
    "    if len(result_list) == 0:\n",
    "        raise ValueError(\"lenght of result_list has to be > 0\")\n",
    "        \n",
    "    color_list = [\"b\",\"r\",\"m\",\"y\"]\n",
    "    \n",
    "    xmin = +1.0e+20\n",
    "    xmax = -1.0e+20\n",
    "    for arr in result_list:\n",
    "        min_tmp = np.amin(arr)\n",
    "        max_tmp = np.amax(arr)\n",
    "        \n",
    "        if xmin > min_tmp:\n",
    "            xmin = min_tmp\n",
    "        if xmax < max_tmp:\n",
    "            xmax = max_tmp\n",
    "    \n",
    "    percent   = 0.01\n",
    "    delta     = xmax - xmin\n",
    "    xmin     -= percent*delta\n",
    "    xmax     += percent*delta\n",
    "        \n",
    "    bins = np.linspace(xmin, xmax, nbins+1)\n",
    "    \n",
    "    \n",
    "    fig, ax = plt.subplots(nrows=1, ncols=1, figsize=figsize)\n",
    "    \n",
    "    porcent = 0.05\n",
    "    ymax = -1.0e+20\n",
    "    for i,arr in enumerate(result_list): \n",
    "        n,_,_ = ax.hist(x       = arr,\n",
    "                        bins    = bins,\n",
    "                        color   = color_list[i],\n",
    "                        alpha   = 0.5,\n",
    "                        density = False,\n",
    "                        label   = label_list[i]\n",
    "                       )\n",
    "        \n",
    "        if ymax < np.amax(n):\n",
    "            ymax = np.amax(n)\n",
    "        \n",
    "    \n",
    "    # Add some text for labels, title and custom x-axis tick labels, etc.\n",
    "    ax.legend()\n",
    "    ax.set_xlim([bins[0],bins[-1]])\n",
    "    ax.set_ylim([0,ymax*(1.0 + porcent)])\n",
    "    ax.set_xlabel(var_name)\n",
    "    ax.set_ylabel('Occurences')\n",
    "    ax.set_title(var_name + ' distribution')\n",
    "\n",
    "    fig.tight_layout()\n",
    "\n",
    "    plt.show()\n",
    "          \n",
    "    "
   ]
  },
  {
   "cell_type": "code",
   "execution_count": 27,
   "metadata": {
    "tags": []
   },
   "outputs": [
    {
     "data": {
      "text/html": [
       "<div>\n",
       "<style scoped>\n",
       "    .dataframe tbody tr th:only-of-type {\n",
       "        vertical-align: middle;\n",
       "    }\n",
       "\n",
       "    .dataframe tbody tr th {\n",
       "        vertical-align: top;\n",
       "    }\n",
       "\n",
       "    .dataframe thead th {\n",
       "        text-align: right;\n",
       "    }\n",
       "</style>\n",
       "<table border=\"1\" class=\"dataframe\">\n",
       "  <thead>\n",
       "    <tr style=\"text-align: right;\">\n",
       "      <th></th>\n",
       "      <th>Part</th>\n",
       "      <th>mean</th>\n",
       "      <th>standard_deviation</th>\n",
       "    </tr>\n",
       "  </thead>\n",
       "  <tbody>\n",
       "    <tr>\n",
       "      <th>0</th>\n",
       "      <td>A</td>\n",
       "      <td>54.21625</td>\n",
       "      <td>12.445317</td>\n",
       "    </tr>\n",
       "  </tbody>\n",
       "</table>\n",
       "</div>"
      ],
      "text/plain": [
       "  Part      mean  standard_deviation\n",
       "0    A  54.21625           12.445317"
      ]
     },
     "execution_count": 27,
     "metadata": {},
     "output_type": "execute_result"
    }
   ],
   "source": [
    "# Generate a data frame to store the results of the differents parts of this project\n",
    "df_results = pd.DataFrame.from_dict({\"Part\": [\"A\"],\"mean\": [mean_A], \"standard_deviation\": [standard_deviation_A]})\n",
    "df_results"
   ]
  },
  {
   "cell_type": "code",
   "execution_count": 28,
   "metadata": {
    "tags": []
   },
   "outputs": [
    {
     "data": {
      "image/png": "[encoded data removed]",
      "text/plain": [
       "<Figure size 1000x800 with 1 Axes>"
      ]
     },
     "metadata": {},
     "output_type": "display_data"
    }
   ],
   "source": [
    "plot_results(result_list = [mean_squared_errors_A],\n",
    "             label_list  = [\"Part A\"],\n",
    "             var_name = \"sq(mse)\",\n",
    "             figsize = figsize,\n",
    "             nbins = nbins)"
   ]
  },
  {
   "cell_type": "markdown",
   "metadata": {
    "jp-MarkdownHeadingCollapsed": true,
    "tags": []
   },
   "source": [
    "## B. Normalize the data (5 marks) \n",
    "\n",
    "Repeat Part A but use a normalized version of the data. Recall that one way to normalize the data is by subtracting the mean from the individual predictors and dividing by the standard deviation.\n",
    "\n",
    "How does the mean of the mean squared errors compare to that from Step A?"
   ]
  },
  {
   "cell_type": "code",
   "execution_count": 29,
   "metadata": {
    "tags": []
   },
   "outputs": [],
   "source": [
    "import keras\n",
    "from keras.models import Sequential\n",
    "from keras.layers import Dense"
   ]
  },
  {
   "cell_type": "code",
   "execution_count": 30,
   "metadata": {
    "tags": []
   },
   "outputs": [],
   "source": [
    "from sklearn.model_selection import train_test_split #import scikit-learn in order to randomly split the data into a training and test sets"
   ]
  },
  {
   "cell_type": "code",
   "execution_count": 31,
   "metadata": {
    "tags": []
   },
   "outputs": [],
   "source": [
    "# define regression model\n",
    "def regression_model():\n",
    "    # create model\n",
    "    model = Sequential()\n",
    "    model.add(Dense(10, activation='relu', input_shape=(n_cols,)))\n",
    "    model.add(Dense(1))\n",
    "    # compile model\n",
    "    model.compile(optimizer='adam', loss='mean_squared_error')\n",
    "    return model"
   ]
  },
  {
   "cell_type": "code",
   "execution_count": 32,
   "metadata": {
    "tags": []
   },
   "outputs": [],
   "source": [
    "# Splitting the data into a training and test sets by holding 30% of the data for testing\n",
    "X_train, X_test, y_train, y_test = train_test_split(predictors_norm, target, test_size=0.3, random_state=42)"
   ]
  },
  {
   "cell_type": "code",
   "execution_count": 33,
   "metadata": {
    "tags": []
   },
   "outputs": [],
   "source": [
    "# build the model\n",
    "model = regression_model()"
   ]
  },
  {
   "cell_type": "code",
   "execution_count": 35,
   "metadata": {
    "tags": []
   },
   "outputs": [
    {
     "name": "stdout",
     "output_type": "stream",
     "text": [
      "Epoch 1/50\n",
      " - 0s - loss: 269.2501\n",
      "Epoch 2/50\n",
      " - 0s - loss: 260.4309\n",
      "Epoch 3/50\n",
      " - 0s - loss: 252.1385\n",
      "Epoch 4/50\n",
      " - 0s - loss: 244.7077\n",
      "Epoch 5/50\n",
      " - 0s - loss: 237.7207\n",
      "Epoch 6/50\n",
      " - 0s - loss: 231.3495\n",
      "Epoch 7/50\n",
      " - 0s - loss: 225.4190\n",
      "Epoch 8/50\n",
      " - 0s - loss: 220.0361\n",
      "Epoch 9/50\n",
      " - 0s - loss: 215.1617\n",
      "Epoch 10/50\n",
      " - 0s - loss: 210.2613\n",
      "Epoch 11/50\n",
      " - 0s - loss: 206.1606\n",
      "Epoch 12/50\n",
      " - 0s - loss: 202.1802\n",
      "Epoch 13/50\n",
      " - 0s - loss: 198.5471\n",
      "Epoch 14/50\n",
      " - 0s - loss: 195.1778\n",
      "Epoch 15/50\n",
      " - 0s - loss: 192.1288\n",
      "Epoch 16/50\n",
      " - 0s - loss: 189.2987\n",
      "Epoch 17/50\n",
      " - 0s - loss: 186.7795\n",
      "Epoch 18/50\n",
      " - 0s - loss: 184.2113\n",
      "Epoch 19/50\n",
      " - 0s - loss: 181.8852\n",
      "Epoch 20/50\n",
      " - 0s - loss: 179.6267\n",
      "Epoch 21/50\n",
      " - 0s - loss: 177.6495\n",
      "Epoch 22/50\n",
      " - 0s - loss: 175.7615\n",
      "Epoch 23/50\n",
      " - 0s - loss: 173.9598\n",
      "Epoch 24/50\n",
      " - 0s - loss: 172.3335\n",
      "Epoch 25/50\n",
      " - 0s - loss: 170.8783\n",
      "Epoch 26/50\n",
      " - 0s - loss: 169.3135\n",
      "Epoch 27/50\n",
      " - 0s - loss: 168.0051\n",
      "Epoch 28/50\n",
      " - 0s - loss: 166.7333\n",
      "Epoch 29/50\n",
      " - 0s - loss: 165.5099\n",
      "Epoch 30/50\n",
      " - 0s - loss: 164.3701\n",
      "Epoch 31/50\n",
      " - 0s - loss: 163.3273\n",
      "Epoch 32/50\n",
      " - 0s - loss: 162.2090\n",
      "Epoch 33/50\n",
      " - 0s - loss: 161.2818\n",
      "Epoch 34/50\n",
      " - 0s - loss: 160.2676\n",
      "Epoch 35/50\n",
      " - 0s - loss: 159.3895\n",
      "Epoch 36/50\n",
      " - 0s - loss: 158.5134\n",
      "Epoch 37/50\n",
      " - 0s - loss: 157.6771\n",
      "Epoch 38/50\n",
      " - 0s - loss: 156.8238\n",
      "Epoch 39/50\n",
      " - 0s - loss: 156.0063\n",
      "Epoch 40/50\n",
      " - 0s - loss: 155.2774\n",
      "Epoch 41/50\n",
      " - 0s - loss: 154.5195\n",
      "Epoch 42/50\n",
      " - 0s - loss: 153.8090\n",
      "Epoch 43/50\n",
      " - 0s - loss: 153.1306\n",
      "Epoch 44/50\n",
      " - 0s - loss: 152.4447\n",
      "Epoch 45/50\n",
      " - 0s - loss: 151.7810\n",
      "Epoch 46/50\n",
      " - 0s - loss: 151.1030\n",
      "Epoch 47/50\n",
      " - 0s - loss: 150.4077\n",
      "Epoch 48/50\n",
      " - 0s - loss: 149.7951\n",
      "Epoch 49/50\n",
      " - 0s - loss: 149.1302\n",
      "Epoch 50/50\n",
      " - 0s - loss: 148.4845\n"
     ]
    },
    {
     "data": {
      "text/plain": [
       "<keras.callbacks.History at 0x7f1294259850>"
      ]
     },
     "execution_count": 35,
     "metadata": {},
     "output_type": "execute_result"
    }
   ],
   "source": [
    "# fit the model\n",
    "epochs = 50 #train the model for 50 epochs\n",
    "model.fit(X_train, y_train, epochs=epochs, verbose=2)"
   ]
  },
  {
   "cell_type": "code",
   "execution_count": 36,
   "metadata": {
    "tags": []
   },
   "outputs": [
    {
     "name": "stdout",
     "output_type": "stream",
     "text": [
      "309/309 [==============================] - 0s 236us/step\n"
     ]
    },
    {
     "data": {
      "text/plain": [
       "150.06738947896125"
      ]
     },
     "execution_count": 36,
     "metadata": {},
     "output_type": "execute_result"
    }
   ],
   "source": [
    "# evaluate the model on the test data\n",
    "loss_val = model.evaluate(X_test, y_test)\n",
    "y_pred = model.predict(X_test)\n",
    "loss_val"
   ]
  },
  {
   "cell_type": "code",
   "execution_count": 37,
   "metadata": {
    "tags": []
   },
   "outputs": [],
   "source": [
    "from sklearn.metrics import mean_squared_error #  import the mean_squared_error function from Scikit-learn"
   ]
  },
  {
   "cell_type": "code",
   "execution_count": 38,
   "metadata": {
    "tags": []
   },
   "outputs": [
    {
     "name": "stdout",
     "output_type": "stream",
     "text": [
      "150.06739577969697 0.0\n"
     ]
    }
   ],
   "source": [
    "mean_square_error = mean_squared_error(y_test, y_pred)\n",
    "mean_B = np.mean(mean_square_error)\n",
    "standard_deviation_B = np.std(mean_square_error)\n",
    "print(mean_B, standard_deviation_B)"
   ]
  },
  {
   "cell_type": "code",
   "execution_count": 39,
   "metadata": {
    "tags": []
   },
   "outputs": [
    {
     "name": "stdout",
     "output_type": "stream",
     "text": [
      "MSE 1: 108.94489320427854\n",
      "MSE 2: 112.39584906124374\n",
      "MSE 3: 88.45627673004051\n",
      "MSE 4: 81.92367330261033\n",
      "MSE 5: 74.86397641376384\n",
      "MSE 6: 72.409223636763\n",
      "MSE 7: 69.08623939193183\n",
      "MSE 8: 55.82683632366094\n",
      "MSE 9: 50.00837290248439\n",
      "MSE 10: 46.811765331280654\n",
      "MSE 11: 45.59488807604151\n",
      "MSE 12: 44.58344887298288\n",
      "MSE 13: 51.00164768379483\n",
      "MSE 14: 49.72453363659312\n",
      "MSE 15: 44.666014291707754\n",
      "MSE 16: 38.669563953930506\n",
      "MSE 17: 42.90019236567723\n",
      "MSE 18: 41.93467623516194\n",
      "MSE 19: 40.57095259138681\n",
      "MSE 20: 42.992779963224834\n",
      "MSE 21: 39.863967944889005\n",
      "MSE 22: 41.489376685380165\n",
      "MSE 23: 38.26954785442661\n",
      "MSE 24: 41.168733689391495\n",
      "MSE 25: 44.01871421344843\n",
      "MSE 26: 42.88156935312215\n",
      "MSE 27: 40.886231777351654\n",
      "MSE 28: 40.09341486217906\n",
      "MSE 29: 46.50068034940553\n",
      "MSE 30: 42.9690345714779\n",
      "MSE 31: 42.1976177869877\n",
      "MSE 32: 38.22978030825124\n",
      "MSE 33: 37.879781630432724\n",
      "MSE 34: 43.86843674545535\n",
      "MSE 35: 41.34221775091967\n",
      "MSE 36: 47.14048284388669\n",
      "MSE 37: 42.652795689777264\n",
      "MSE 38: 45.534140651665844\n",
      "MSE 39: 42.768869665448335\n",
      "MSE 40: 38.88466273928152\n",
      "MSE 41: 45.7284515035191\n",
      "MSE 42: 38.70991468583882\n",
      "MSE 43: 40.683961590516915\n",
      "MSE 44: 45.98104431251106\n",
      "MSE 45: 45.89535571842132\n",
      "MSE 46: 47.51759629727953\n",
      "MSE 47: 42.25213989702243\n",
      "MSE 48: 42.35648415080938\n",
      "MSE 49: 45.40656080523741\n",
      "MSE 50: 47.65691078210726\n",
      "\n",
      "\n",
      "Below is the mean and standard deviation of 50 mean squared errors without normalized data. Total number of epochs for each training is: 50\n",
      "\n",
      "Mean: 49.68388518692778\n",
      "Standard Deviation: 16.554921848792134\n"
     ]
    }
   ],
   "source": [
    "# Create a list of 50 mean squared errors and report mean and the standard deviation of the mean squared errors.\n",
    "total_mean_squared_errors = 50\n",
    "epochs = 50\n",
    "mean_squared_errors_B = []\n",
    "for i in range(0, total_mean_squared_errors):\n",
    "    X_train, X_test, y_train, y_test = train_test_split(predictors_norm, target, test_size=0.3, random_state=i)\n",
    "    model.fit(X_train, y_train, epochs=epochs, verbose=0)\n",
    "    MSE = model.evaluate(X_test, y_test, verbose=0)\n",
    "    print(\"MSE \"+str(i+1)+\": \"+str(MSE))\n",
    "    y_pred = model.predict(X_test)\n",
    "    mean_square_error = mean_squared_error(y_test, y_pred)\n",
    "    mean_squared_errors_B.append(mean_square_error)\n",
    "\n",
    "mean_squared_errors_B = np.array(mean_squared_errors_B)\n",
    "mean_B = np.mean(mean_squared_errors_B)\n",
    "standard_deviation_B = np.std(mean_squared_errors_B)\n",
    "\n",
    "print('\\n')\n",
    "print(\"Below is the mean and standard deviation of \" +str(total_mean_squared_errors) + \" mean squared errors without normalized data. Total number of epochs for each training is: \" +str(epochs) + \"\\n\")\n",
    "print(\"Mean: \"+str(mean_B))\n",
    "print(\"Standard Deviation: \"+str(standard_deviation_B))"
   ]
  },
  {
   "cell_type": "code",
   "execution_count": 40,
   "metadata": {
    "tags": []
   },
   "outputs": [
    {
     "data": {
      "text/html": [
       "<div>\n",
       "<style scoped>\n",
       "    .dataframe tbody tr th:only-of-type {\n",
       "        vertical-align: middle;\n",
       "    }\n",
       "\n",
       "    .dataframe tbody tr th {\n",
       "        vertical-align: top;\n",
       "    }\n",
       "\n",
       "    .dataframe thead th {\n",
       "        text-align: right;\n",
       "    }\n",
       "</style>\n",
       "<table border=\"1\" class=\"dataframe\">\n",
       "  <thead>\n",
       "    <tr style=\"text-align: right;\">\n",
       "      <th></th>\n",
       "      <th>Part</th>\n",
       "      <th>mean</th>\n",
       "      <th>standard_deviation</th>\n",
       "    </tr>\n",
       "  </thead>\n",
       "  <tbody>\n",
       "    <tr>\n",
       "      <th>0</th>\n",
       "      <td>A</td>\n",
       "      <td>54.216250</td>\n",
       "      <td>12.445317</td>\n",
       "    </tr>\n",
       "    <tr>\n",
       "      <th>1</th>\n",
       "      <td>B</td>\n",
       "      <td>49.683885</td>\n",
       "      <td>16.554922</td>\n",
       "    </tr>\n",
       "  </tbody>\n",
       "</table>\n",
       "</div>"
      ],
      "text/plain": [
       "  Part       mean  standard_deviation\n",
       "0    A  54.216250           12.445317\n",
       "1    B  49.683885           16.554922"
      ]
     },
     "execution_count": 40,
     "metadata": {},
     "output_type": "execute_result"
    }
   ],
   "source": [
    "df_results.loc[df_results.shape[0]] = [\"B\",mean_B,standard_deviation_B]\n",
    "df_results"
   ]
  },
  {
   "cell_type": "code",
   "execution_count": 41,
   "metadata": {
    "tags": []
   },
   "outputs": [
    {
     "data": {
      "image/png": "[encoded data removed]",
      "text/plain": [
       "<Figure size 1000x800 with 1 Axes>"
      ]
     },
     "metadata": {},
     "output_type": "display_data"
    }
   ],
   "source": [
    "plot_results(result_list = [mean_squared_errors_A,mean_squared_errors_B],\n",
    "             label_list  = [\"Part A\",\"Part B\"],\n",
    "             var_name = \"sq(mse)\",\n",
    "             figsize = figsize,\n",
    "             nbins = nbins)"
   ]
  },
  {
   "cell_type": "markdown",
   "metadata": {},
   "source": [
    "How does the mean of the mean squared errors compare to that from Step A?\n",
    "\n",
    "Part B has a slightly lower mean for sq(mse) compared to Part A, as its distribution leans more towards the lower end of the sq(mse) range."
   ]
  },
  {
   "cell_type": "markdown",
   "metadata": {
    "tags": []
   },
   "source": [
    "## C. Increate the number of epochs (5 marks)\n",
    "\n",
    "Repeat Part B but use 100 epochs this time for training.\n",
    "\n",
    "How does the mean of the mean squared errors compare to that from Step B?"
   ]
  },
  {
   "cell_type": "code",
   "execution_count": 42,
   "metadata": {
    "tags": []
   },
   "outputs": [],
   "source": [
    "import keras\n",
    "from keras.models import Sequential\n",
    "from keras.layers import Dense"
   ]
  },
  {
   "cell_type": "code",
   "execution_count": 43,
   "metadata": {
    "tags": []
   },
   "outputs": [],
   "source": [
    "from sklearn.model_selection import train_test_split #import scikit-learn in order to randomly split the data into a training and test sets"
   ]
  },
  {
   "cell_type": "code",
   "execution_count": 44,
   "metadata": {
    "tags": []
   },
   "outputs": [],
   "source": [
    "# define regression model\n",
    "def regression_model():\n",
    "    # create model\n",
    "    model = Sequential()\n",
    "    model.add(Dense(10, activation='relu', input_shape=(n_cols,)))\n",
    "    model.add(Dense(1))\n",
    "    # compile model\n",
    "    model.compile(optimizer='adam', loss='mean_squared_error')\n",
    "    return model"
   ]
  },
  {
   "cell_type": "code",
   "execution_count": 45,
   "metadata": {
    "tags": []
   },
   "outputs": [],
   "source": [
    "# Splitting the data into a training and test sets by holding 30% of the data for testing\n",
    "X_train, X_test, y_train, y_test = train_test_split(predictors_norm, target, test_size=0.3, random_state=42)"
   ]
  },
  {
   "cell_type": "code",
   "execution_count": 46,
   "metadata": {
    "tags": []
   },
   "outputs": [],
   "source": [
    "# build the model\n",
    "model = regression_model()"
   ]
  },
  {
   "cell_type": "code",
   "execution_count": 47,
   "metadata": {
    "tags": []
   },
   "outputs": [
    {
     "name": "stdout",
     "output_type": "stream",
     "text": [
      "Epoch 1/50\n",
      " - 0s - loss: 1561.3360\n",
      "Epoch 2/50\n",
      " - 0s - loss: 1544.1758\n",
      "Epoch 3/50\n",
      " - 0s - loss: 1526.7835\n",
      "Epoch 4/50\n",
      " - 0s - loss: 1509.1427\n",
      "Epoch 5/50\n",
      " - 0s - loss: 1490.8129\n",
      "Epoch 6/50\n",
      " - 0s - loss: 1471.7781\n",
      "Epoch 7/50\n",
      " - 0s - loss: 1451.9067\n",
      "Epoch 8/50\n",
      " - 0s - loss: 1431.2892\n",
      "Epoch 9/50\n",
      " - 0s - loss: 1409.4174\n",
      "Epoch 10/50\n",
      " - 0s - loss: 1387.0959\n",
      "Epoch 11/50\n",
      " - 0s - loss: 1363.3255\n",
      "Epoch 12/50\n",
      " - 0s - loss: 1338.9676\n",
      "Epoch 13/50\n",
      " - 0s - loss: 1313.3729\n",
      "Epoch 14/50\n",
      " - 0s - loss: 1287.3210\n",
      "Epoch 15/50\n",
      " - 0s - loss: 1259.9616\n",
      "Epoch 16/50\n",
      " - 0s - loss: 1232.1539\n",
      "Epoch 17/50\n",
      " - 0s - loss: 1203.4262\n",
      "Epoch 18/50\n",
      " - 0s - loss: 1174.7943\n",
      "Epoch 19/50\n",
      " - 0s - loss: 1144.9895\n",
      "Epoch 20/50\n",
      " - 0s - loss: 1115.0622\n",
      "Epoch 21/50\n",
      " - 0s - loss: 1085.0167\n",
      "Epoch 22/50\n",
      " - 0s - loss: 1054.8586\n",
      "Epoch 23/50\n",
      " - 0s - loss: 1024.5914\n",
      "Epoch 24/50\n",
      " - 0s - loss: 993.8250\n",
      "Epoch 25/50\n",
      " - 0s - loss: 964.1220\n",
      "Epoch 26/50\n",
      " - 0s - loss: 933.7505\n",
      "Epoch 27/50\n",
      " - 0s - loss: 904.0364\n",
      "Epoch 28/50\n",
      " - 0s - loss: 874.9200\n",
      "Epoch 29/50\n",
      " - 0s - loss: 846.1770\n",
      "Epoch 30/50\n",
      " - 0s - loss: 818.2094\n",
      "Epoch 31/50\n",
      " - 0s - loss: 790.3934\n",
      "Epoch 32/50\n",
      " - 0s - loss: 763.6824\n",
      "Epoch 33/50\n",
      " - 0s - loss: 737.8330\n",
      "Epoch 34/50\n",
      " - 0s - loss: 712.4469\n",
      "Epoch 35/50\n",
      " - 0s - loss: 688.0276\n",
      "Epoch 36/50\n",
      " - 0s - loss: 664.5178\n",
      "Epoch 37/50\n",
      " - 0s - loss: 641.5070\n",
      "Epoch 38/50\n",
      " - 0s - loss: 619.8907\n",
      "Epoch 39/50\n",
      " - 0s - loss: 599.1313\n",
      "Epoch 40/50\n",
      " - 0s - loss: 579.0978\n",
      "Epoch 41/50\n",
      " - 0s - loss: 560.0742\n",
      "Epoch 42/50\n",
      " - 0s - loss: 541.7562\n",
      "Epoch 43/50\n",
      " - 0s - loss: 524.3500\n",
      "Epoch 44/50\n",
      " - 0s - loss: 507.7261\n",
      "Epoch 45/50\n",
      " - 0s - loss: 491.9772\n",
      "Epoch 46/50\n",
      " - 0s - loss: 476.8567\n",
      "Epoch 47/50\n",
      " - 0s - loss: 462.5259\n",
      "Epoch 48/50\n",
      " - 0s - loss: 448.6857\n",
      "Epoch 49/50\n",
      " - 0s - loss: 435.6796\n",
      "Epoch 50/50\n",
      " - 0s - loss: 423.4962\n"
     ]
    },
    {
     "data": {
      "text/plain": [
       "<keras.callbacks.History at 0x7f1283f700d0>"
      ]
     },
     "execution_count": 47,
     "metadata": {},
     "output_type": "execute_result"
    }
   ],
   "source": [
    "# fit the model\n",
    "epochs = 50 #train the model for 50 epochs\n",
    "model.fit(X_train, y_train, epochs=epochs, verbose=2)"
   ]
  },
  {
   "cell_type": "code",
   "execution_count": 48,
   "metadata": {
    "tags": []
   },
   "outputs": [
    {
     "name": "stdout",
     "output_type": "stream",
     "text": [
      "309/309 [==============================] - 0s 256us/step\n"
     ]
    },
    {
     "data": {
      "text/plain": [
       "425.9717958320692"
      ]
     },
     "execution_count": 48,
     "metadata": {},
     "output_type": "execute_result"
    }
   ],
   "source": [
    "# evaluate the model on the test data\n",
    "loss_val = model.evaluate(X_test, y_test)\n",
    "y_pred = model.predict(X_test)\n",
    "loss_val"
   ]
  },
  {
   "cell_type": "code",
   "execution_count": 49,
   "metadata": {
    "tags": []
   },
   "outputs": [],
   "source": [
    "from sklearn.metrics import mean_squared_error #  import the mean_squared_error function from Scikit-learn"
   ]
  },
  {
   "cell_type": "code",
   "execution_count": 50,
   "metadata": {
    "tags": []
   },
   "outputs": [
    {
     "name": "stdout",
     "output_type": "stream",
     "text": [
      "425.97179795660605 0.0\n"
     ]
    }
   ],
   "source": [
    "mean_square_error = mean_squared_error(y_test, y_pred)\n",
    "mean_C = np.mean(mean_square_error)\n",
    "standard_deviation_C = np.std(mean_square_error)\n",
    "print(mean_C, standard_deviation_C)"
   ]
  },
  {
   "cell_type": "code",
   "execution_count": 52,
   "metadata": {
    "tags": []
   },
   "outputs": [
    {
     "name": "stdout",
     "output_type": "stream",
     "text": [
      "MSE 1: 56.75681690104957\n",
      "MSE 2: 51.4051285530757\n",
      "MSE 3: 35.27626324008584\n",
      "MSE 4: 37.53675150948435\n",
      "MSE 5: 38.72874806228193\n",
      "MSE 6: 38.61911373693966\n",
      "MSE 7: 38.97715386449326\n",
      "MSE 8: 32.04830810398732\n",
      "MSE 9: 31.921118813425206\n",
      "MSE 10: 33.221398585051006\n",
      "MSE 11: 33.076307932535805\n",
      "MSE 12: 28.11899183946134\n",
      "MSE 13: 32.22701535332936\n",
      "MSE 14: 36.08987830449077\n",
      "MSE 15: 28.32978955364536\n",
      "MSE 16: 24.20247684404688\n",
      "MSE 17: 29.521142255912707\n",
      "MSE 18: 29.908547435377795\n",
      "MSE 19: 25.38152094720637\n",
      "MSE 20: 33.065513931817605\n",
      "MSE 21: 28.389761063659076\n",
      "MSE 22: 25.859765845980846\n",
      "MSE 23: 24.972574913000212\n",
      "MSE 24: 28.3811043797959\n",
      "MSE 25: 27.722231485311266\n",
      "MSE 26: 30.760720188177906\n",
      "MSE 27: 24.232687249538582\n",
      "MSE 28: 25.664356990925317\n",
      "MSE 29: 32.72720772703103\n",
      "MSE 30: 29.721957950530314\n",
      "MSE 31: 26.69328710562203\n",
      "MSE 32: 22.135528311374504\n",
      "MSE 33: 22.98797222248559\n",
      "MSE 34: 27.543395551663\n",
      "MSE 35: 26.87338454360715\n",
      "MSE 36: 31.232751352501534\n",
      "MSE 37: 23.022489396499584\n",
      "MSE 38: 27.37027924423465\n",
      "MSE 39: 26.11826486803567\n",
      "MSE 40: 24.446132252517256\n",
      "MSE 41: 28.466455305278494\n",
      "MSE 42: 22.859257009808687\n",
      "MSE 43: 25.761536829679915\n",
      "MSE 44: 31.254321459427622\n",
      "MSE 45: 31.44410374712404\n",
      "MSE 46: 25.761967470730777\n",
      "MSE 47: 26.524255771081425\n",
      "MSE 48: 28.106115853516414\n",
      "MSE 49: 28.701979418016947\n",
      "MSE 50: 28.50152137287226\n",
      "\n",
      "\n",
      "Below is the mean and standard deviation of 50 mean squared errors without normalized data. Total number of epochs for each training is: 100\n",
      "\n",
      "Mean: 30.172986353599278\n",
      "Standard Deviation: 6.473473730840507\n"
     ]
    }
   ],
   "source": [
    "# Create a list of 50 mean squared errors and report mean and the standard deviation of the mean squared errors.\n",
    "total_mean_squared_errors = 50\n",
    "epochs = 100\n",
    "mean_squared_errors_C = []\n",
    "for i in range(0, total_mean_squared_errors):\n",
    "    X_train, X_test, y_train, y_test = train_test_split(predictors_norm, target, test_size=0.3, random_state=i)\n",
    "    model.fit(X_train, y_train, epochs=epochs, verbose=0)\n",
    "    MSE = model.evaluate(X_test, y_test, verbose=0)\n",
    "    print(\"MSE \"+str(i+1)+\": \"+str(MSE))\n",
    "    y_pred = model.predict(X_test)\n",
    "    mean_square_error = mean_squared_error(y_test, y_pred)\n",
    "    mean_squared_errors_C.append(mean_square_error)\n",
    "\n",
    "mean_squared_errors_C = np.array(mean_squared_errors_C)\n",
    "mean_C = np.mean(mean_squared_errors_C)\n",
    "standard_deviation_C = np.std(mean_squared_errors_C)\n",
    "\n",
    "print('\\n')\n",
    "print(\"Below is the mean and standard deviation of \" +str(total_mean_squared_errors) + \" mean squared errors without normalized data. Total number of epochs for each training is: \" +str(epochs) + \"\\n\")\n",
    "print(\"Mean: \"+str(mean_C))\n",
    "print(\"Standard Deviation: \"+str(standard_deviation_C))"
   ]
  },
  {
   "cell_type": "code",
   "execution_count": 53,
   "metadata": {
    "tags": []
   },
   "outputs": [
    {
     "data": {
      "text/html": [
       "<div>\n",
       "<style scoped>\n",
       "    .dataframe tbody tr th:only-of-type {\n",
       "        vertical-align: middle;\n",
       "    }\n",
       "\n",
       "    .dataframe tbody tr th {\n",
       "        vertical-align: top;\n",
       "    }\n",
       "\n",
       "    .dataframe thead th {\n",
       "        text-align: right;\n",
       "    }\n",
       "</style>\n",
       "<table border=\"1\" class=\"dataframe\">\n",
       "  <thead>\n",
       "    <tr style=\"text-align: right;\">\n",
       "      <th></th>\n",
       "      <th>Part</th>\n",
       "      <th>mean</th>\n",
       "      <th>standard_deviation</th>\n",
       "    </tr>\n",
       "  </thead>\n",
       "  <tbody>\n",
       "    <tr>\n",
       "      <th>0</th>\n",
       "      <td>A</td>\n",
       "      <td>54.216250</td>\n",
       "      <td>12.445317</td>\n",
       "    </tr>\n",
       "    <tr>\n",
       "      <th>1</th>\n",
       "      <td>B</td>\n",
       "      <td>49.683885</td>\n",
       "      <td>16.554922</td>\n",
       "    </tr>\n",
       "    <tr>\n",
       "      <th>2</th>\n",
       "      <td>C</td>\n",
       "      <td>30.172986</td>\n",
       "      <td>6.473474</td>\n",
       "    </tr>\n",
       "  </tbody>\n",
       "</table>\n",
       "</div>"
      ],
      "text/plain": [
       "  Part       mean  standard_deviation\n",
       "0    A  54.216250           12.445317\n",
       "1    B  49.683885           16.554922\n",
       "2    C  30.172986            6.473474"
      ]
     },
     "execution_count": 53,
     "metadata": {},
     "output_type": "execute_result"
    }
   ],
   "source": [
    "df_results.loc[df_results.shape[0]] = [\"C\",mean_C,standard_deviation_C]\n",
    "df_results"
   ]
  },
  {
   "cell_type": "code",
   "execution_count": 54,
   "metadata": {
    "tags": []
   },
   "outputs": [
    {
     "data": {
      "image/png": "[encoded data removed]",
      "text/plain": [
       "<Figure size 1000x800 with 1 Axes>"
      ]
     },
     "metadata": {},
     "output_type": "display_data"
    }
   ],
   "source": [
    "plot_results(result_list = [mean_squared_errors_A,mean_squared_errors_B,mean_squared_errors_C],\n",
    "             label_list  = [\"Part A\",\"Part B\",\"Part C\"],\n",
    "             var_name = \"sq(mse)\",\n",
    "             figsize = figsize,\n",
    "             nbins = nbins)"
   ]
  },
  {
   "cell_type": "markdown",
   "metadata": {},
   "source": [
    "How does the mean of the mean squared errors compare to that from Step B?\n",
    "\n",
    "By increasing the number of epocs we obtain more precise (lower mse mean) and stable (lower standard deviation) results ( as few as possible)"
   ]
  },
  {
   "cell_type": "markdown",
   "metadata": {
    "tags": []
   },
   "source": [
    "## D. Increase the number of hidden layers (5 marks)\n",
    "\n",
    "Repeat part B but use a neural network with the following instead:\n",
    "\n",
    "- Three hidden layers, each of 10 nodes and ReLU activation function.\n",
    "\n",
    "How does the mean of the mean squared errors compare to that from Step B?"
   ]
  },
  {
   "cell_type": "code",
   "execution_count": 55,
   "metadata": {
    "tags": []
   },
   "outputs": [],
   "source": [
    "import keras\n",
    "from keras.models import Sequential\n",
    "from keras.layers import Dense"
   ]
  },
  {
   "cell_type": "code",
   "execution_count": 56,
   "metadata": {
    "tags": []
   },
   "outputs": [],
   "source": [
    "from sklearn.model_selection import train_test_split #import scikit-learn in order to randomly split the data into a training and test sets"
   ]
  },
  {
   "cell_type": "code",
   "execution_count": 57,
   "metadata": {
    "tags": []
   },
   "outputs": [],
   "source": [
    "# define regression model\n",
    "def regression_model():\n",
    "    # create model\n",
    "    model = Sequential()\n",
    "    model.add(Dense(10, activation='relu', input_shape=(n_cols,)))\n",
    "    model.add(Dense(10, activation='relu'))\n",
    "    model.add(Dense(10, activation='relu'))\n",
    "    model.add(Dense(1))\n",
    "    # compile model\n",
    "    model.compile(optimizer='adam', loss='mean_squared_error')\n",
    "    return model"
   ]
  },
  {
   "cell_type": "code",
   "execution_count": 58,
   "metadata": {
    "tags": []
   },
   "outputs": [],
   "source": [
    "# Splitting the data into a training and test sets by holding 30% of the data for testing\n",
    "X_train, X_test, y_train, y_test = train_test_split(predictors_norm, target, test_size=0.3, random_state=42)"
   ]
  },
  {
   "cell_type": "code",
   "execution_count": 59,
   "metadata": {
    "tags": []
   },
   "outputs": [],
   "source": [
    "# build the model\n",
    "model = regression_model()"
   ]
  },
  {
   "cell_type": "code",
   "execution_count": 60,
   "metadata": {
    "tags": []
   },
   "outputs": [
    {
     "name": "stdout",
     "output_type": "stream",
     "text": [
      "Epoch 1/50\n",
      " - 0s - loss: 1596.7329\n",
      "Epoch 2/50\n",
      " - 0s - loss: 1581.3275\n",
      "Epoch 3/50\n",
      " - 0s - loss: 1560.5445\n",
      "Epoch 4/50\n",
      " - 0s - loss: 1528.7584\n",
      "Epoch 5/50\n",
      " - 0s - loss: 1477.3866\n",
      "Epoch 6/50\n",
      " - 0s - loss: 1398.3913\n",
      "Epoch 7/50\n",
      " - 0s - loss: 1279.2541\n",
      "Epoch 8/50\n",
      " - 0s - loss: 1113.9732\n",
      "Epoch 9/50\n",
      " - 0s - loss: 902.2910\n",
      "Epoch 10/50\n",
      " - 0s - loss: 664.2825\n",
      "Epoch 11/50\n",
      " - 0s - loss: 454.6556\n",
      "Epoch 12/50\n",
      " - 0s - loss: 316.6335\n",
      "Epoch 13/50\n",
      " - 0s - loss: 251.6535\n",
      "Epoch 14/50\n",
      " - 0s - loss: 225.9497\n",
      "Epoch 15/50\n",
      " - 0s - loss: 212.0857\n",
      "Epoch 16/50\n",
      " - 0s - loss: 201.3350\n",
      "Epoch 17/50\n",
      " - 0s - loss: 194.0336\n",
      "Epoch 18/50\n",
      " - 0s - loss: 189.2318\n",
      "Epoch 19/50\n",
      " - 0s - loss: 185.5092\n",
      "Epoch 20/50\n",
      " - 0s - loss: 181.8641\n",
      "Epoch 21/50\n",
      " - 0s - loss: 178.4758\n",
      "Epoch 22/50\n",
      " - 0s - loss: 175.4060\n",
      "Epoch 23/50\n",
      " - 0s - loss: 172.3317\n",
      "Epoch 24/50\n",
      " - 0s - loss: 169.6096\n",
      "Epoch 25/50\n",
      " - 0s - loss: 167.3782\n",
      "Epoch 26/50\n",
      " - 0s - loss: 164.6274\n",
      "Epoch 27/50\n",
      " - 0s - loss: 162.4918\n",
      "Epoch 28/50\n",
      " - 0s - loss: 160.5439\n",
      "Epoch 29/50\n",
      " - 0s - loss: 158.4219\n",
      "Epoch 30/50\n",
      " - 0s - loss: 156.3578\n",
      "Epoch 31/50\n",
      " - 0s - loss: 154.6235\n",
      "Epoch 32/50\n",
      " - 0s - loss: 153.2683\n",
      "Epoch 33/50\n",
      " - 0s - loss: 151.4816\n",
      "Epoch 34/50\n",
      " - 0s - loss: 149.8612\n",
      "Epoch 35/50\n",
      " - 0s - loss: 148.3690\n",
      "Epoch 36/50\n",
      " - 0s - loss: 146.8662\n",
      "Epoch 37/50\n",
      " - 0s - loss: 145.5629\n",
      "Epoch 38/50\n",
      " - 0s - loss: 144.3507\n",
      "Epoch 39/50\n",
      " - 0s - loss: 143.2125\n",
      "Epoch 40/50\n",
      " - 0s - loss: 141.9514\n",
      "Epoch 41/50\n",
      " - 0s - loss: 140.4200\n",
      "Epoch 42/50\n",
      " - 0s - loss: 139.3012\n",
      "Epoch 43/50\n",
      " - 0s - loss: 137.9126\n",
      "Epoch 44/50\n",
      " - 0s - loss: 136.6739\n",
      "Epoch 45/50\n",
      " - 0s - loss: 135.8912\n",
      "Epoch 46/50\n",
      " - 0s - loss: 134.5346\n",
      "Epoch 47/50\n",
      " - 0s - loss: 133.2444\n",
      "Epoch 48/50\n",
      " - 0s - loss: 132.3234\n",
      "Epoch 49/50\n",
      " - 0s - loss: 130.8527\n",
      "Epoch 50/50\n",
      " - 0s - loss: 129.4728\n"
     ]
    },
    {
     "data": {
      "text/plain": [
       "<keras.callbacks.History at 0x7f128388acd0>"
      ]
     },
     "execution_count": 60,
     "metadata": {},
     "output_type": "execute_result"
    }
   ],
   "source": [
    "# fit the model\n",
    "epochs = 50 #train the model for 50 epochs\n",
    "model.fit(X_train, y_train, epochs=epochs, verbose=2)"
   ]
  },
  {
   "cell_type": "code",
   "execution_count": 61,
   "metadata": {
    "tags": []
   },
   "outputs": [
    {
     "name": "stdout",
     "output_type": "stream",
     "text": [
      "309/309 [==============================] - 0s 232us/step\n"
     ]
    },
    {
     "data": {
      "text/plain": [
       "131.38249404067747"
      ]
     },
     "execution_count": 61,
     "metadata": {},
     "output_type": "execute_result"
    }
   ],
   "source": [
    "# evaluate the model on the test data\n",
    "loss_val = model.evaluate(X_test, y_test)\n",
    "y_pred = model.predict(X_test)\n",
    "loss_val"
   ]
  },
  {
   "cell_type": "code",
   "execution_count": 62,
   "metadata": {
    "tags": []
   },
   "outputs": [],
   "source": [
    "from sklearn.metrics import mean_squared_error #  import the mean_squared_error function from Scikit-learn"
   ]
  },
  {
   "cell_type": "code",
   "execution_count": 63,
   "metadata": {
    "tags": []
   },
   "outputs": [
    {
     "name": "stdout",
     "output_type": "stream",
     "text": [
      "131.38248868702553 0.0\n"
     ]
    }
   ],
   "source": [
    "mean_square_error = mean_squared_error(y_test, y_pred)\n",
    "mean_D = np.mean(mean_square_error)\n",
    "standard_deviation_D = np.std(mean_square_error)\n",
    "print(mean_D, standard_deviation_D)"
   ]
  },
  {
   "cell_type": "code",
   "execution_count": 64,
   "metadata": {
    "tags": []
   },
   "outputs": [
    {
     "name": "stdout",
     "output_type": "stream",
     "text": [
      "MSE 1: 66.90759348946482\n",
      "MSE 2: 59.58790335300285\n",
      "MSE 3: 45.36045348528519\n",
      "MSE 4: 46.66577979276095\n",
      "MSE 5: 45.020700559646954\n",
      "MSE 6: 46.18366611814036\n",
      "MSE 7: 47.31815693679365\n",
      "MSE 8: 33.00041381440888\n",
      "MSE 9: 33.62623752976698\n",
      "MSE 10: 35.0147669770571\n",
      "MSE 11: 36.57569184040946\n",
      "MSE 12: 27.559183126900187\n",
      "MSE 13: 42.085934759343715\n",
      "MSE 14: 40.16436661408557\n",
      "MSE 15: 34.765776865690654\n",
      "MSE 16: 26.951788578218626\n",
      "MSE 17: 36.17429165392632\n",
      "MSE 18: 33.15623500663486\n",
      "MSE 19: 29.971533920386847\n",
      "MSE 20: 35.24167983663121\n",
      "MSE 21: 29.413418803785998\n",
      "MSE 22: 34.790646920312184\n",
      "MSE 23: 27.356722760740606\n",
      "MSE 24: 33.42875530650315\n",
      "MSE 25: 34.32684223705897\n",
      "MSE 26: 36.15665944417318\n",
      "MSE 27: 26.974357642016365\n",
      "MSE 28: 27.725619343877995\n",
      "MSE 29: 34.829365566710436\n",
      "MSE 30: 29.99877911786817\n",
      "MSE 31: 28.90556736671423\n",
      "MSE 32: 27.652663635204526\n",
      "MSE 33: 25.903125059257434\n",
      "MSE 34: 31.79596573172264\n",
      "MSE 35: 32.80706021700862\n",
      "MSE 36: 33.8659211069249\n",
      "MSE 37: 25.615089052317597\n",
      "MSE 38: 29.26271965742883\n",
      "MSE 39: 27.59774572872421\n",
      "MSE 40: 26.372349890304616\n",
      "MSE 41: 29.81904771181372\n",
      "MSE 42: 26.124333495846844\n",
      "MSE 43: 29.416647685770076\n",
      "MSE 44: 32.05084991455078\n",
      "MSE 45: 32.1493349785172\n",
      "MSE 46: 29.61088797806922\n",
      "MSE 47: 29.396472770419322\n",
      "MSE 48: 26.628273355922268\n",
      "MSE 49: 29.00140610481929\n",
      "MSE 50: 30.642597309594017\n",
      "\n",
      "\n",
      "Below is the mean and standard deviation of 50 mean squared errors without normalized data. Total number of epochs for each training is: 50\n",
      "\n",
      "Mean: 34.01902677847739\n",
      "Standard Deviation: 8.30258488616555\n"
     ]
    }
   ],
   "source": [
    "# Create a list of 50 mean squared errors and report mean and the standard deviation of the mean squared errors.\n",
    "total_mean_squared_errors = 50\n",
    "epochs = 50\n",
    "mean_squared_errors_D = []\n",
    "for i in range(0, total_mean_squared_errors):\n",
    "    X_train, X_test, y_train, y_test = train_test_split(predictors_norm, target, test_size=0.3, random_state=i)\n",
    "    model.fit(X_train, y_train, epochs=epochs, verbose=0)\n",
    "    MSE = model.evaluate(X_test, y_test, verbose=0)\n",
    "    print(\"MSE \"+str(i+1)+\": \"+str(MSE))\n",
    "    y_pred = model.predict(X_test)\n",
    "    mean_square_error = mean_squared_error(y_test, y_pred)\n",
    "    mean_squared_errors_D.append(mean_square_error)\n",
    "\n",
    "mean_squared_errors_D = np.array(mean_squared_errors_D)\n",
    "mean_D = np.mean(mean_squared_errors_D)\n",
    "standard_deviation_D = np.std(mean_squared_errors_D)\n",
    "\n",
    "print('\\n')\n",
    "print(\"Below is the mean and standard deviation of \" +str(total_mean_squared_errors) + \" mean squared errors without normalized data. Total number of epochs for each training is: \" +str(epochs) + \"\\n\")\n",
    "print(\"Mean: \"+str(mean_D))\n",
    "print(\"Standard Deviation: \"+str(standard_deviation_D))"
   ]
  },
  {
   "cell_type": "code",
   "execution_count": 65,
   "metadata": {
    "tags": []
   },
   "outputs": [
    {
     "data": {
      "text/html": [
       "<div>\n",
       "<style scoped>\n",
       "    .dataframe tbody tr th:only-of-type {\n",
       "        vertical-align: middle;\n",
       "    }\n",
       "\n",
       "    .dataframe tbody tr th {\n",
       "        vertical-align: top;\n",
       "    }\n",
       "\n",
       "    .dataframe thead th {\n",
       "        text-align: right;\n",
       "    }\n",
       "</style>\n",
       "<table border=\"1\" class=\"dataframe\">\n",
       "  <thead>\n",
       "    <tr style=\"text-align: right;\">\n",
       "      <th></th>\n",
       "      <th>Part</th>\n",
       "      <th>mean</th>\n",
       "      <th>standard_deviation</th>\n",
       "    </tr>\n",
       "  </thead>\n",
       "  <tbody>\n",
       "    <tr>\n",
       "      <th>0</th>\n",
       "      <td>A</td>\n",
       "      <td>54.216250</td>\n",
       "      <td>12.445317</td>\n",
       "    </tr>\n",
       "    <tr>\n",
       "      <th>1</th>\n",
       "      <td>B</td>\n",
       "      <td>49.683885</td>\n",
       "      <td>16.554922</td>\n",
       "    </tr>\n",
       "    <tr>\n",
       "      <th>2</th>\n",
       "      <td>C</td>\n",
       "      <td>30.172986</td>\n",
       "      <td>6.473474</td>\n",
       "    </tr>\n",
       "    <tr>\n",
       "      <th>3</th>\n",
       "      <td>D</td>\n",
       "      <td>34.019027</td>\n",
       "      <td>8.302585</td>\n",
       "    </tr>\n",
       "  </tbody>\n",
       "</table>\n",
       "</div>"
      ],
      "text/plain": [
       "  Part       mean  standard_deviation\n",
       "0    A  54.216250           12.445317\n",
       "1    B  49.683885           16.554922\n",
       "2    C  30.172986            6.473474\n",
       "3    D  34.019027            8.302585"
      ]
     },
     "execution_count": 65,
     "metadata": {},
     "output_type": "execute_result"
    }
   ],
   "source": [
    "df_results.loc[df_results.shape[0]] = [\"D\",mean_D,standard_deviation_D]\n",
    "df_results"
   ]
  },
  {
   "cell_type": "code",
   "execution_count": 66,
   "metadata": {
    "tags": []
   },
   "outputs": [
    {
     "data": {
      "image/png": "[encoded data removed]",
      "text/plain": [
       "<Figure size 1000x800 with 1 Axes>"
      ]
     },
     "metadata": {},
     "output_type": "display_data"
    }
   ],
   "source": [
    "plot_results(result_list = [mean_squared_errors_A,mean_squared_errors_B,mean_squared_errors_C,mean_squared_errors_D],\n",
    "             label_list  = [\"Part A\",\"Part B\",\"Part C\",\"Part D\"],\n",
    "             var_name = \"sq(mse)\",\n",
    "             figsize = figsize,\n",
    "             nbins = nbins)"
   ]
  },
  {
   "cell_type": "markdown",
   "metadata": {},
   "source": [
    "How does the mean of the mean squared errors compare to that from Step B?\n",
    "\n",
    "By increasing the model complexity (more hidden layers) improves the results, both in terms of precision (mse mean) and stability (mse standard deviation)."
   ]
  },
  {
   "cell_type": "code",
   "execution_count": null,
   "metadata": {},
   "outputs": [],
   "source": []
  }
 ],
 "metadata": {
  "kernelspec": {
   "display_name": "Python",
   "language": "python",
   "name": "conda-env-python-py"
  },
  "language_info": {
   "codemirror_mode": {
    "name": "ipython",
    "version": 3
   },
   "file_extension": ".py",
   "mimetype": "text/x-python",
   "name": "python",
   "nbconvert_exporter": "python",
   "pygments_lexer": "ipython3",
   "version": "3.7.12"
  },
  "prev_pub_hash": "83687881d337faa1ef19930a5252431ac8ebd74923546c921f47fecec1b0d333"
 },
 "nbformat": 4,
 "nbformat_minor": 4
}
